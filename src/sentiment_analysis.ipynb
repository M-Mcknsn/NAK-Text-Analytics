{
 "cells": [
  {
   "cell_type": "markdown",
   "source": [
    "# Sentiment Analysis\n",
    "*Jannik Labs, 2023*\n",
    "*Master \"Applied Data Science\" @ Nordakademie*\n",
    "*Modul: Text Analytics*"
   ],
   "metadata": {
    "collapsed": false
   }
  },
  {
   "cell_type": "markdown",
   "source": [
    "## Intro\n",
    "\n",
    "Different approaches/methods or respective libraries possible for mapping sentiment values to the \"cleaned_articles_v1.csv\". Each coming in with its own characteristics, weaknesses and strengths:\n",
    "\n",
    "1. **TextBlob**\n",
    "- beginner-friendly and relatively easy to set up\n",
    "- pre-trained models for sentiment analysis\n",
    "- suitable for basic sentiment analysis tasks\n",
    "- limited customization options\n",
    "\n",
    "2. **NLTK Toolkit** - in general\n",
    "- wide range of tools for text processing, including sentiment analysis\n",
    "- more flexibility for creating custom sentiment analysis models\n",
    "\n",
    "    - **VADER**-- (**V**alence **A**ware **D**ictionary and s**E**ntiment **R**easoner) (PART OF NLTK)\n",
    "    - specific for Social Media, especially for informal texts like tweets and social media posts\n",
    "    - lexicon-based and comes with a pre-trained sentiment lexicon\n",
    "    - good for real-time sentiment analysis\n",
    "\n",
    "3. **Scikit-learn**\n",
    "- can be used to build a custom sentiment analysis model using machine learning\n",
    "- allows engineering of custom features for sentiment analysis\n",
    "\n",
    "4. **Transformer Models like BERT or GPT**\n",
    "- State-of-the-Art Models: Utilizes pre-trained transformer-based models (e.g., BERT, GPT) for sentiment analysis\n",
    "- High Performance: Provides state-of-the-art performance in NLP tasks\n",
    "- requires significant computational resources and large amounts of data\n",
    "\n",
    "### Decision\n",
    "For our use case custom sentiment models with special features are rather out of scope. Neither do we mainly analyse really short texts as found on Social Media (tweets on X etc.). Therefore, in order to ensure comparisons of different tools/libraries, here we will use:\n",
    "\n",
    "- TextBlob\n",
    "- NLTK Toolkit (using VADER) (still used for a comparison)\n",
    "- BERT (later specified)\n",
    "\n",
    "As ressource heaviness increases these tools will be used in this exact order."
   ],
   "metadata": {
    "collapsed": false
   }
  },
  {
   "cell_type": "markdown",
   "source": [
    "## Sentiment Analyses"
   ],
   "metadata": {
    "collapsed": false
   }
  },
  {
   "cell_type": "markdown",
   "source": [
    "### General pre-work"
   ],
   "metadata": {
    "collapsed": false
   }
  },
  {
   "cell_type": "code",
   "execution_count": 1,
   "outputs": [
    {
     "name": "stderr",
     "output_type": "stream",
     "text": [
      "[nltk_data] Downloading package vader_lexicon to\n",
      "[nltk_data]     C:\\Users\\jannik.labs\\AppData\\Roaming\\nltk_data...\n",
      "[nltk_data]   Package vader_lexicon is already up-to-date!\n"
     ]
    }
   ],
   "source": [
    "# Import necessary libraries\n",
    "\n",
    "# Overall needed\n",
    "import pandas as pd # to work with data frames\n",
    "import numpy as np\n",
    "\n",
    "# Needed for sentiment analyses and different approaches\n",
    "from textblob import TextBlob\n",
    "import nltk\n",
    "from nltk.sentiment.vader import SentimentIntensityAnalyzer\n",
    "nltk.download('vader_lexicon')\n",
    "import torch\n",
    "import torch.nn.functional as F # Import softmax function from torch.nn.functional\n",
    "from transformers import BertTokenizer, BertForSequenceClassification\n",
    "from transformers import RobertaTokenizer, RobertaForSequenceClassification\n",
    "from scipy.special import softmax\n",
    "from transformers import LongformerTokenizer, LongformerForSequenceClassification\n",
    "\n",
    "# Needed for visualisations and smaller functions such as time tracking or saving files\n",
    "import seaborn as sns\n",
    "import matplotlib.pyplot as plt\n",
    "import csv\n",
    "import os # to define a dedicated output folder\n",
    "import time # to track the run time for different approaches\n",
    "import random\n",
    "\n",
    "output_folder = 'data/sentiment_results' # refer to a new folder to store only sentiment result files\n",
    "\n",
    "# check if folder can be found, else create it\n",
    "if not os.path.exists(output_folder):\n",
    "    os.makedirs(output_folder)"
   ],
   "metadata": {
    "collapsed": false
   }
  },
  {
   "cell_type": "code",
   "execution_count": 2,
   "outputs": [
    {
     "name": "stdout",
     "output_type": "stream",
     "text": [
      "     Row_Number           Unternehmen       Newstyp   Quelle Nearest_Date  \\\n",
      "0             1  Heidelberg Materials          News  onvista   2021-06-02   \n",
      "1             2       Sartorius (Vz.)          News  onvista   2021-06-04   \n",
      "2             3       Sartorius (Vz.)          News  onvista   2021-06-08   \n",
      "3             4              Covestro          News  onvista   2021-06-09   \n",
      "4             5              Covestro          News  onvista   2021-06-09   \n",
      "..          ...                   ...           ...      ...          ...   \n",
      "145         146              Covestro          News  onvista   2021-10-19   \n",
      "146         147         Hannover Rück          News  dpa-AFX   2021-10-18   \n",
      "147         148         Hannover Rück          News  dpa-AFX   2021-10-18   \n",
      "148         149         Deutsche Bank  Marktbericht  dpa-AFX   2021-10-18   \n",
      "149         150         Hannover Rück          News  dpa-AFX   2021-10-18   \n",
      "\n",
      "                                          Cleaned_Text    Stock_Value  \n",
      "0    Heidelbergcement klimaneutral Zementwerk Weg B...       positive  \n",
      "1    Sartorius Impferfolg belasten Papier Laborausr...       negative  \n",
      "2    Sartorius Aktie springen 200tagetrendlinie Bio...  very_positive  \n",
      "3    Covestro Aktie fallen Chartunterstützung gewin...  very_negative  \n",
      "4    Onvista Mahlzeit Memeaktie Gegensatz Dax Rand ...  very_negative  \n",
      "..                                                 ...            ...  \n",
      "145  Dax Leitindex kalt Dusche Wochenstart Hellofre...       negative  \n",
      "146  Hannover Rück Kfzversicherer Kaskotarif erhöhe...            NaN  \n",
      "147  Hannover Rück erwarten Flutkatastrophe steigen...            NaN  \n",
      "148  Aktie Frankfurt konjunkturdaen China beenden D...        neutral  \n",
      "149  Munich Rückversicherungsschutz Flutkatastrophe...            NaN  \n",
      "\n",
      "[150 rows x 7 columns]\n"
     ]
    }
   ],
   "source": [
    "# Load the CSV file from the data cleaning part\n",
    "\n",
    "csv_file_path = 'data/transfer/cleaned_articles_v1.csv' # define the path of the input csv file\n",
    "\n",
    "# Load the data set, with the option of defining only a subset of the data (first x rows as an example). This way we can test ALL our approaches first and see some first results. Just use parameter \"nrows=x\". Total row number of the input is around 23.500.\n",
    "df = pd.read_csv(csv_file_path, encoding='utf-8', quoting=csv.QUOTE_ALL, nrows=150) # ensuring the right encoding as in the csv file we still encounter incorrectly encoded special characters\n",
    "total_rows = len(df) #define total rows\n",
    "\n",
    "# Add a new column 'Row_Number' with the row number as the merge key for later\n",
    "#df['Row_Number'] = range(1, len(df) + 1)\n",
    "\n",
    "# Add a new column 'Row_Number' with the row number as the merge key for later\n",
    "df.insert(0, 'Row_Number', range(1, len(df) + 1))\n",
    "\n",
    "# Print the DataFrame with the row number as the first column\n",
    "print(df)\n",
    "\n",
    "# Create separate data frame copies for the sentiment analysis approaches\n",
    "df_textblob = df.copy()       # For TextBlob approach\n",
    "df_nltk = df.copy()           # For NLTK approach\n",
    "df_bert_large = df.copy()     # for BERT approach with BERT-large\n",
    "df_bert_roberta = df.copy()   # for BERT approach with RoBERTa\n",
    "df_longformer = df.copy()  # for BERT approach with Longform"
   ],
   "metadata": {
    "collapsed": false
   }
  },
  {
   "cell_type": "markdown",
   "source": [
    "### 1st Approach with TextBlob"
   ],
   "metadata": {
    "collapsed": false
   }
  },
  {
   "cell_type": "code",
   "execution_count": 3,
   "outputs": [
    {
     "name": "stdout",
     "output_type": "stream",
     "text": [
      "Analyzing text number 1 out of 150 rows in the input file.\n",
      "Analyzing text number 2 out of 150 rows in the input file.\n",
      "Analyzing text number 3 out of 150 rows in the input file.\n",
      "Analyzing text number 4 out of 150 rows in the input file.\n",
      "Analyzing text number 5 out of 150 rows in the input file.\n",
      "Analyzing text number 6 out of 150 rows in the input file.\n",
      "Analyzing text number 7 out of 150 rows in the input file.\n",
      "Analyzing text number 8 out of 150 rows in the input file.\n",
      "Analyzing text number 9 out of 150 rows in the input file.\n",
      "Analyzing text number 10 out of 150 rows in the input file.\n",
      "Analyzing text number 11 out of 150 rows in the input file.\n",
      "Analyzing text number 12 out of 150 rows in the input file.\n",
      "Analyzing text number 13 out of 150 rows in the input file.\n",
      "Analyzing text number 14 out of 150 rows in the input file.\n",
      "Analyzing text number 15 out of 150 rows in the input file.\n",
      "Analyzing text number 16 out of 150 rows in the input file.\n",
      "Analyzing text number 17 out of 150 rows in the input file.\n",
      "Analyzing text number 18 out of 150 rows in the input file.\n",
      "Analyzing text number 19 out of 150 rows in the input file.\n",
      "Analyzing text number 20 out of 150 rows in the input file.\n",
      "Analyzing text number 21 out of 150 rows in the input file.\n",
      "Analyzing text number 22 out of 150 rows in the input file.\n",
      "Analyzing text number 23 out of 150 rows in the input file.\n",
      "Analyzing text number 24 out of 150 rows in the input file.\n",
      "Analyzing text number 25 out of 150 rows in the input file.\n",
      "Analyzing text number 26 out of 150 rows in the input file.\n",
      "Analyzing text number 27 out of 150 rows in the input file.\n",
      "Analyzing text number 28 out of 150 rows in the input file.\n",
      "Analyzing text number 29 out of 150 rows in the input file.\n",
      "Analyzing text number 30 out of 150 rows in the input file.\n",
      "Analyzing text number 31 out of 150 rows in the input file.\n",
      "Analyzing text number 32 out of 150 rows in the input file.\n",
      "Analyzing text number 33 out of 150 rows in the input file.\n",
      "Analyzing text number 34 out of 150 rows in the input file.\n",
      "Analyzing text number 35 out of 150 rows in the input file.\n",
      "Analyzing text number 36 out of 150 rows in the input file.\n",
      "Analyzing text number 37 out of 150 rows in the input file.\n",
      "Analyzing text number 38 out of 150 rows in the input file.\n",
      "Analyzing text number 39 out of 150 rows in the input file.\n",
      "Analyzing text number 40 out of 150 rows in the input file.\n",
      "Analyzing text number 41 out of 150 rows in the input file.\n",
      "Analyzing text number 42 out of 150 rows in the input file.\n",
      "Analyzing text number 43 out of 150 rows in the input file.\n",
      "Analyzing text number 44 out of 150 rows in the input file.\n",
      "Analyzing text number 45 out of 150 rows in the input file.\n",
      "Analyzing text number 46 out of 150 rows in the input file.\n",
      "Analyzing text number 47 out of 150 rows in the input file.\n",
      "Analyzing text number 48 out of 150 rows in the input file.\n",
      "Analyzing text number 49 out of 150 rows in the input file.\n",
      "Analyzing text number 50 out of 150 rows in the input file.\n",
      "Analyzing text number 51 out of 150 rows in the input file.\n",
      "Analyzing text number 52 out of 150 rows in the input file.\n",
      "Analyzing text number 53 out of 150 rows in the input file.\n",
      "Analyzing text number 54 out of 150 rows in the input file.\n",
      "Analyzing text number 55 out of 150 rows in the input file.\n",
      "Analyzing text number 56 out of 150 rows in the input file.\n",
      "Analyzing text number 57 out of 150 rows in the input file.\n",
      "Analyzing text number 58 out of 150 rows in the input file.\n",
      "Analyzing text number 59 out of 150 rows in the input file.\n",
      "Analyzing text number 60 out of 150 rows in the input file.\n",
      "Analyzing text number 61 out of 150 rows in the input file.\n",
      "Analyzing text number 62 out of 150 rows in the input file.\n",
      "Analyzing text number 63 out of 150 rows in the input file.\n",
      "Analyzing text number 64 out of 150 rows in the input file.\n",
      "Analyzing text number 65 out of 150 rows in the input file.\n",
      "Analyzing text number 66 out of 150 rows in the input file.\n",
      "Analyzing text number 67 out of 150 rows in the input file.\n",
      "Analyzing text number 68 out of 150 rows in the input file.\n",
      "Analyzing text number 69 out of 150 rows in the input file.\n",
      "Analyzing text number 70 out of 150 rows in the input file.\n",
      "Analyzing text number 71 out of 150 rows in the input file.\n",
      "Analyzing text number 72 out of 150 rows in the input file.\n",
      "Analyzing text number 73 out of 150 rows in the input file.\n",
      "Analyzing text number 74 out of 150 rows in the input file.\n",
      "Analyzing text number 75 out of 150 rows in the input file.\n",
      "Analyzing text number 76 out of 150 rows in the input file.\n",
      "Analyzing text number 77 out of 150 rows in the input file.\n",
      "Analyzing text number 78 out of 150 rows in the input file.\n",
      "Analyzing text number 79 out of 150 rows in the input file.\n",
      "Analyzing text number 80 out of 150 rows in the input file.\n",
      "Analyzing text number 81 out of 150 rows in the input file.\n",
      "Analyzing text number 82 out of 150 rows in the input file.\n",
      "Analyzing text number 83 out of 150 rows in the input file.\n",
      "Analyzing text number 84 out of 150 rows in the input file.\n",
      "Analyzing text number 85 out of 150 rows in the input file.\n",
      "Analyzing text number 86 out of 150 rows in the input file.\n",
      "Analyzing text number 87 out of 150 rows in the input file.\n",
      "Analyzing text number 88 out of 150 rows in the input file.\n",
      "Analyzing text number 89 out of 150 rows in the input file.\n",
      "Analyzing text number 90 out of 150 rows in the input file.\n",
      "Analyzing text number 91 out of 150 rows in the input file.\n",
      "Analyzing text number 92 out of 150 rows in the input file.\n",
      "Analyzing text number 93 out of 150 rows in the input file.\n",
      "Analyzing text number 94 out of 150 rows in the input file.\n",
      "Analyzing text number 95 out of 150 rows in the input file.\n",
      "Analyzing text number 96 out of 150 rows in the input file.\n",
      "Analyzing text number 97 out of 150 rows in the input file.\n",
      "Analyzing text number 98 out of 150 rows in the input file.\n",
      "Analyzing text number 99 out of 150 rows in the input file.\n",
      "Analyzing text number 100 out of 150 rows in the input file.\n",
      "Analyzing text number 101 out of 150 rows in the input file.\n",
      "Analyzing text number 102 out of 150 rows in the input file.\n",
      "Analyzing text number 103 out of 150 rows in the input file.\n",
      "Analyzing text number 104 out of 150 rows in the input file.\n",
      "Analyzing text number 105 out of 150 rows in the input file.\n",
      "Analyzing text number 106 out of 150 rows in the input file.\n",
      "Analyzing text number 107 out of 150 rows in the input file.\n",
      "Analyzing text number 108 out of 150 rows in the input file.\n",
      "Analyzing text number 109 out of 150 rows in the input file.\n",
      "Analyzing text number 110 out of 150 rows in the input file.\n",
      "Analyzing text number 111 out of 150 rows in the input file.\n",
      "Analyzing text number 112 out of 150 rows in the input file.\n",
      "Analyzing text number 113 out of 150 rows in the input file.\n",
      "Analyzing text number 114 out of 150 rows in the input file.\n",
      "Analyzing text number 115 out of 150 rows in the input file.\n",
      "Analyzing text number 116 out of 150 rows in the input file.\n",
      "Analyzing text number 117 out of 150 rows in the input file.\n",
      "Analyzing text number 118 out of 150 rows in the input file.\n",
      "Analyzing text number 119 out of 150 rows in the input file.\n",
      "Analyzing text number 120 out of 150 rows in the input file.\n",
      "Analyzing text number 121 out of 150 rows in the input file.\n",
      "Analyzing text number 122 out of 150 rows in the input file.\n",
      "Analyzing text number 123 out of 150 rows in the input file.\n",
      "Analyzing text number 124 out of 150 rows in the input file.\n",
      "Analyzing text number 125 out of 150 rows in the input file.\n",
      "Analyzing text number 126 out of 150 rows in the input file.\n",
      "Analyzing text number 127 out of 150 rows in the input file.\n",
      "Analyzing text number 128 out of 150 rows in the input file.\n",
      "Analyzing text number 129 out of 150 rows in the input file.\n",
      "Analyzing text number 130 out of 150 rows in the input file.\n",
      "Analyzing text number 131 out of 150 rows in the input file.\n",
      "Analyzing text number 132 out of 150 rows in the input file.\n",
      "Analyzing text number 133 out of 150 rows in the input file.\n",
      "Analyzing text number 134 out of 150 rows in the input file.\n",
      "Analyzing text number 135 out of 150 rows in the input file.\n",
      "Analyzing text number 136 out of 150 rows in the input file.\n",
      "Analyzing text number 137 out of 150 rows in the input file.\n",
      "Analyzing text number 138 out of 150 rows in the input file.\n",
      "Analyzing text number 139 out of 150 rows in the input file.\n",
      "Analyzing text number 140 out of 150 rows in the input file.\n",
      "Analyzing text number 141 out of 150 rows in the input file.\n",
      "Analyzing text number 142 out of 150 rows in the input file.\n",
      "Analyzing text number 143 out of 150 rows in the input file.\n",
      "Analyzing text number 144 out of 150 rows in the input file.\n",
      "Analyzing text number 145 out of 150 rows in the input file.\n",
      "Analyzing text number 146 out of 150 rows in the input file.\n",
      "Analyzing text number 147 out of 150 rows in the input file.\n",
      "Analyzing text number 148 out of 150 rows in the input file.\n",
      "Analyzing text number 149 out of 150 rows in the input file.\n",
      "Analyzing text number 150 out of 150 rows in the input file.\n",
      "----------------------------------------------------------------------------------------------------\n"
     ]
    }
   ],
   "source": [
    "used_approach = \"TextBlob\"  # Setting it for later reference\n",
    "\n",
    "# Initialize a counter for tracking progress\n",
    "current_row = 0\n",
    "\n",
    "# Record the start time\n",
    "start_time = time.time()\n",
    "\n",
    "# Defining function for sentiment analysis\n",
    "def analyze_sentiment(text):\n",
    "    global current_row\n",
    "    current_row += 1\n",
    "    print(f\"Analyzing text number {current_row} out of {total_rows} rows in the input file.\")\n",
    "\n",
    "    analysis = TextBlob(text)\n",
    "    sentiment_score = analysis.sentiment.polarity\n",
    "    if sentiment_score > 0:\n",
    "        sentiment_label = 'Positive'\n",
    "    elif sentiment_score == 0:\n",
    "        sentiment_label = 'Neutral'\n",
    "    else:\n",
    "        sentiment_label = 'Negative'\n",
    "\n",
    "    return sentiment_label, sentiment_score  # Return both label and score\n",
    "\n",
    "# Applying the defined sentiment analysis function\n",
    "df_textblob[['TextBlob_Sentiment_Label', 'TextBlob_Sentiment_Score']] = df_textblob['Cleaned_Text'].apply(analyze_sentiment).apply(pd.Series)\n",
    "\n",
    "# Calculate the elapsed time\n",
    "end_time = time.time()\n",
    "elapsed_time = end_time - start_time\n",
    "\n",
    "print(\"-\"*100)"
   ],
   "metadata": {
    "collapsed": false
   }
  },
  {
   "cell_type": "code",
   "execution_count": 4,
   "outputs": [
    {
     "name": "stdout",
     "output_type": "stream",
     "text": [
      "The used approach was TextBlob.\n",
      "Elapsed time: 0 hours, 0 mins, and 0 secs.\n"
     ]
    }
   ],
   "source": [
    "# Calculate hours, minutes, and seconds from the elapsed time\n",
    "hours = int(elapsed_time // 3600)\n",
    "minutes = int((elapsed_time % 3600) // 60)\n",
    "seconds = int(elapsed_time % 60)\n",
    "\n",
    "# Format the elapsed time string\n",
    "elapsed_time_str = f\"{hours} hours, {minutes} mins, and {seconds} secs\"\n",
    "\n",
    "# End information about the run\n",
    "print(f\"The used approach was {used_approach}.\")\n",
    "print(f\"Elapsed time: {elapsed_time_str}.\")"
   ],
   "metadata": {
    "collapsed": false
   }
  },
  {
   "cell_type": "code",
   "execution_count": 5,
   "outputs": [
    {
     "name": "stdout",
     "output_type": "stream",
     "text": [
      "Results saved as data/sentiment_results\\sentiment_results_textblob.csv and data/sentiment_results\\sentiment_results_textblob.xlsx.\n"
     ]
    }
   ],
   "source": [
    "# Saving the output in two file formats in dedicated files for only this current approach in the correct repository folder\n",
    "\n",
    "# Save the results to an Excel file\n",
    "excel_output_file_textblob = os.path.join(output_folder, 'sentiment_results_textblob.xlsx')\n",
    "df_textblob.to_excel(excel_output_file_textblob, index=False)\n",
    "\n",
    "# Save the results to a csv file with the same name\n",
    "csv_output_file_textblob = os.path.join(output_folder, 'sentiment_results_textblob.csv')\n",
    "df_textblob.to_csv(csv_output_file_textblob, index=False, encoding='utf-8', quoting=csv.QUOTE_ALL)\n",
    "\n",
    "# Print final info\n",
    "print(f\"Results saved as {csv_output_file_textblob} and {excel_output_file_textblob}.\")"
   ],
   "metadata": {
    "collapsed": false
   }
  },
  {
   "cell_type": "markdown",
   "source": [
    "### Explorative Analysis of TextBlob"
   ],
   "metadata": {
    "collapsed": false
   }
  },
  {
   "cell_type": "code",
   "execution_count": 6,
   "outputs": [
    {
     "name": "stdout",
     "output_type": "stream",
     "text": [
      "Statistics for TextBlob_Sentiment_Score:\n",
      "\n",
      "Average Score:\n",
      "-0.013295154791745709\n",
      "\n",
      "Minimum Score:\n",
      "-0.2\n",
      "\n",
      "Maximum Score:\n",
      "0.7\n",
      "\n",
      "Standard Deviation:\n",
      "0.12473367997127782\n",
      "\n",
      "Statistics for TextBlob_Sentiment_Label:\n",
      "Count of values:\n",
      "Negative    77\n",
      "Neutral     38\n",
      "Positive    35\n",
      "Name: TextBlob_Sentiment_Label, dtype: int64\n"
     ]
    }
   ],
   "source": [
    "# Calculate and print statistics\n",
    "\n",
    "print(\"Statistics for TextBlob_Sentiment_Score:\")\n",
    "\n",
    "print(\"\\nAverage Score:\")\n",
    "print(df_textblob['TextBlob_Sentiment_Score'].mean())\n",
    "print(\"\\nMinimum Score:\")\n",
    "print(df_textblob['TextBlob_Sentiment_Score'].min())\n",
    "print(\"\\nMaximum Score:\")\n",
    "print(df_textblob['TextBlob_Sentiment_Score'].max())\n",
    "print(\"\\nStandard Deviation:\")\n",
    "print(df_textblob['TextBlob_Sentiment_Score'].std())\n",
    "\n",
    "# statistics for 'TextBlob_Sentiment_Label'\n",
    "print(\"\\nStatistics for TextBlob_Sentiment_Label:\")\n",
    "print(\"Count of values:\")\n",
    "print(df_textblob['TextBlob_Sentiment_Label'].value_counts())"
   ],
   "metadata": {
    "collapsed": false
   }
  },
  {
   "cell_type": "code",
   "execution_count": 7,
   "outputs": [
    {
     "name": "stdout",
     "output_type": "stream",
     "text": [
      "     Row_Number           Unternehmen Newstyp   Quelle Nearest_Date  \\\n",
      "124         125                   SAP    News  onvista   2021-10-13   \n",
      "45           46                   SAP    News  onvista   2021-07-20   \n",
      "116         117               Zalando    News  onvista   2021-10-07   \n",
      "112         113                Adidas    News  onvista   2021-10-04   \n",
      "71           72                Adidas    News  onvista   2021-08-13   \n",
      "9            10                   SAP    News  onvista   2021-06-16   \n",
      "67           68  Heidelberg Materials    News  onvista   2021-08-09   \n",
      "16           17              Covestro    News  onvista   2021-06-23   \n",
      "0             1  Heidelberg Materials    News  onvista   2021-06-02   \n",
      "81           82                Adidas    News  onvista   2021-08-25   \n",
      "\n",
      "                                          Cleaned_Text    Stock_Value  \\\n",
      "124  Onvista Mahlzeit Dax mutig Curevac sap Solarwe...  very_positive   \n",
      "45   sap Führungswechsel Coronakrise strategisch um...       negative   \n",
      "116  Baader Bank sortieren empfehlungslister BASF n...       positive   \n",
      "112  Dax Punkt stehen Fokus Hoffnung goldenen aktie...  very_negative   \n",
      "71   Dax Leitindex rücken dicht 16000punktemark gea...  very_positive   \n",
      "9    sap Finanzvorstand warnen mal Wechselkurs bela...        neutral   \n",
      "67   Dax Leitindex erstarren neu Allzeithoch Daimle...  very_negative   \n",
      "16   Dax zeigen stabil Covestro Aufwind Varta eupho...  very_negative   \n",
      "0    Heidelbergcement klimaneutral Zementwerk Weg B...       positive   \n",
      "81   Onvista Mahlzeit Dax unentschlossen Palo Alto ...       positive   \n",
      "\n",
      "    TextBlob_Sentiment_Label  TextBlob_Sentiment_Score  \n",
      "124                 Positive                  0.200000  \n",
      "45                  Positive                  0.016667  \n",
      "116                 Positive                  0.150000  \n",
      "112                 Positive                  0.066667  \n",
      "71                  Positive                  0.200000  \n",
      "9                   Negative                 -0.140000  \n",
      "67                  Negative                 -0.060000  \n",
      "16                  Negative                 -0.110000  \n",
      "0                   Negative                 -0.087500  \n",
      "81                  Negative                 -0.100000  \n"
     ]
    }
   ],
   "source": [
    "# Check some results of TextBlob including all columns\n",
    "\n",
    "# Randomly sample 5 positive entries\n",
    "positive_entries = df_textblob[df_textblob['TextBlob_Sentiment_Score'] > 0].sample(5, random_state=42)\n",
    "\n",
    "# Randomly sample 5 negative entries\n",
    "negative_entries = df_textblob[df_textblob['TextBlob_Sentiment_Score'] < 0].sample(5, random_state=42)\n",
    "\n",
    "# Concatenate the positive and negative entries along with all columns\n",
    "sampled_entries = pd.concat([positive_entries, negative_entries])\n",
    "\n",
    "# Display all columns for the sampled entries\n",
    "print(sampled_entries)"
   ],
   "metadata": {
    "collapsed": false
   }
  },
  {
   "cell_type": "code",
   "execution_count": 8,
   "outputs": [
    {
     "data": {
      "text/plain": "<Figure size 800x600 with 1 Axes>",
      "image/png": "[encoded data removed]"
     },
     "metadata": {},
     "output_type": "display_data"
    }
   ],
   "source": [
    "# Create a histogram for sentiment scores in df_textblob\n",
    "plt.figure(figsize=(8, 6))\n",
    "sns.histplot(df_textblob['TextBlob_Sentiment_Score'], bins=20, color='skyblue', edgecolor='black')\n",
    "plt.title('Distribution of TextBlob Sentiment Scores')\n",
    "plt.xlabel('Sentiment Score')\n",
    "plt.ylabel('Frequency')\n",
    "plt.grid(axis='y', linestyle='--', alpha=0.7)\n",
    "\n",
    "plt.show()"
   ],
   "metadata": {
    "collapsed": false
   }
  },
  {
   "cell_type": "code",
   "execution_count": 9,
   "outputs": [
    {
     "data": {
      "text/plain": "<Figure size 800x600 with 1 Axes>",
      "image/png": "[encoded data removed]"
     },
     "metadata": {},
     "output_type": "display_data"
    }
   ],
   "source": [
    "# Plot regarding the labels\n",
    "\n",
    "# Count the occurrences of each sentiment label\n",
    "sentiment_counts = df_textblob['TextBlob_Sentiment_Label'].value_counts()\n",
    "\n",
    "# Define the order of sentiment categories\n",
    "sentiment_order = ['Positive', 'Neutral', 'Negative']\n",
    "\n",
    "# Define colors for the sentiment categories\n",
    "colors = {'Positive': 'green', 'Neutral': 'gray', 'Negative': 'red'}\n",
    "\n",
    "# Create a bar plot (histogram) for sentiment distribution with correct colors and order\n",
    "plt.figure(figsize=(8, 6))\n",
    "sns.set_palette([colors[s] for s in sentiment_order])\n",
    "ax = sns.barplot(x=sentiment_counts.index, y=sentiment_counts.values, order=sentiment_order)\n",
    "plt.title('Sentiment Distribution - TextBlob')\n",
    "plt.xlabel('Sentiment Label - categorised with thresholds')\n",
    "plt.ylabel('Count of Sentiment')\n",
    "\n",
    "# Add labels with integer values of counts to the bars\n",
    "for p in ax.patches:\n",
    "    ax.annotate(f'{int(p.get_height())}', (p.get_x() + p.get_width() / 2., p.get_height()), ha='center', va='center', fontsize=12, color='black', xytext=(0, 5), textcoords='offset points')\n",
    "\n",
    "plt.show()"
   ],
   "metadata": {
    "collapsed": false
   }
  },
  {
   "cell_type": "markdown",
   "source": [
    "### 2nd Approach with NLTK (VADER)"
   ],
   "metadata": {
    "collapsed": false
   }
  },
  {
   "cell_type": "code",
   "execution_count": 10,
   "outputs": [],
   "source": [
    "used_approach = \"NLTK_VADER\" #setting it for later reference\n",
    "\n",
    "# Initialize the SentimentIntensityAnalyzer\n",
    "sia = SentimentIntensityAnalyzer()\n",
    "\n",
    "# Apply sentiment analysis and store the compound score in a new column\n",
    "df_nltk['NLTK_Sentiment'] = df_nltk['Cleaned_Text'].apply(lambda text: sia.polarity_scores(text)['compound'])"
   ],
   "metadata": {
    "collapsed": false
   }
  },
  {
   "cell_type": "code",
   "execution_count": 11,
   "outputs": [
    {
     "name": "stdout",
     "output_type": "stream",
     "text": [
      "Text number 1 out of all 150 rows in the input file: Sentiment score = -0.4588.\n",
      "Text number 2 out of all 150 rows in the input file: Sentiment score = 0.2023.\n",
      "Text number 3 out of all 150 rows in the input file: Sentiment score = 0.0.\n",
      "Text number 4 out of all 150 rows in the input file: Sentiment score = 0.4019.\n",
      "Text number 5 out of all 150 rows in the input file: Sentiment score = -0.0516.\n",
      "Text number 6 out of all 150 rows in the input file: Sentiment score = 0.6249.\n",
      "Text number 7 out of all 150 rows in the input file: Sentiment score = 0.872.\n",
      "Text number 8 out of all 150 rows in the input file: Sentiment score = 0.4588.\n",
      "Text number 9 out of all 150 rows in the input file: Sentiment score = 0.4215.\n",
      "Text number 10 out of all 150 rows in the input file: Sentiment score = 0.0.\n",
      "Text number 11 out of all 150 rows in the input file: Sentiment score = 0.0.\n",
      "Text number 12 out of all 150 rows in the input file: Sentiment score = -0.4019.\n",
      "Text number 13 out of all 150 rows in the input file: Sentiment score = 0.9186.\n",
      "Text number 14 out of all 150 rows in the input file: Sentiment score = 0.0516.\n",
      "Text number 15 out of all 150 rows in the input file: Sentiment score = 0.0516.\n",
      "Text number 16 out of all 150 rows in the input file: Sentiment score = 0.891.\n",
      "Text number 17 out of all 150 rows in the input file: Sentiment score = -0.7579.\n",
      "Text number 18 out of all 150 rows in the input file: Sentiment score = 0.0.\n",
      "Text number 19 out of all 150 rows in the input file: Sentiment score = -0.6597.\n",
      "Text number 20 out of all 150 rows in the input file: Sentiment score = 0.5423.\n",
      "Text number 21 out of all 150 rows in the input file: Sentiment score = 0.1779.\n",
      "Text number 22 out of all 150 rows in the input file: Sentiment score = 0.3818.\n",
      "Text number 23 out of all 150 rows in the input file: Sentiment score = -0.4404.\n",
      "Text number 24 out of all 150 rows in the input file: Sentiment score = -0.3612.\n",
      "Text number 25 out of all 150 rows in the input file: Sentiment score = 0.0.\n",
      "Text number 26 out of all 150 rows in the input file: Sentiment score = 0.0516.\n",
      "Text number 27 out of all 150 rows in the input file: Sentiment score = -0.5859.\n",
      "Text number 28 out of all 150 rows in the input file: Sentiment score = -0.6124.\n",
      "Text number 29 out of all 150 rows in the input file: Sentiment score = 0.7184.\n",
      "Text number 30 out of all 150 rows in the input file: Sentiment score = 0.128.\n",
      "Text number 31 out of all 150 rows in the input file: Sentiment score = 0.6369.\n",
      "Text number 32 out of all 150 rows in the input file: Sentiment score = 0.0516.\n",
      "Text number 33 out of all 150 rows in the input file: Sentiment score = -0.4767.\n",
      "Text number 34 out of all 150 rows in the input file: Sentiment score = -0.1779.\n",
      "Text number 35 out of all 150 rows in the input file: Sentiment score = -0.3612.\n",
      "Text number 36 out of all 150 rows in the input file: Sentiment score = 0.25.\n",
      "Text number 37 out of all 150 rows in the input file: Sentiment score = 0.4939.\n",
      "Text number 38 out of all 150 rows in the input file: Sentiment score = -0.6369.\n",
      "Text number 39 out of all 150 rows in the input file: Sentiment score = -0.3612.\n",
      "Text number 40 out of all 150 rows in the input file: Sentiment score = 0.0516.\n",
      "Text number 41 out of all 150 rows in the input file: Sentiment score = 0.25.\n",
      "Text number 42 out of all 150 rows in the input file: Sentiment score = 0.4404.\n",
      "Text number 43 out of all 150 rows in the input file: Sentiment score = -0.836.\n",
      "Text number 44 out of all 150 rows in the input file: Sentiment score = 0.4588.\n",
      "Text number 45 out of all 150 rows in the input file: Sentiment score = -0.4215.\n",
      "Text number 46 out of all 150 rows in the input file: Sentiment score = 0.128.\n",
      "Text number 47 out of all 150 rows in the input file: Sentiment score = -0.3612.\n",
      "Text number 48 out of all 150 rows in the input file: Sentiment score = -0.4767.\n",
      "Text number 49 out of all 150 rows in the input file: Sentiment score = 0.2263.\n",
      "Text number 50 out of all 150 rows in the input file: Sentiment score = -0.3818.\n",
      "Text number 51 out of all 150 rows in the input file: Sentiment score = 0.0.\n",
      "Text number 52 out of all 150 rows in the input file: Sentiment score = -0.1027.\n",
      "Text number 53 out of all 150 rows in the input file: Sentiment score = 0.8074.\n",
      "Text number 54 out of all 150 rows in the input file: Sentiment score = -0.6124.\n",
      "Text number 55 out of all 150 rows in the input file: Sentiment score = 0.0.\n",
      "Text number 56 out of all 150 rows in the input file: Sentiment score = 0.0.\n",
      "Text number 57 out of all 150 rows in the input file: Sentiment score = -0.3612.\n",
      "Text number 58 out of all 150 rows in the input file: Sentiment score = 0.6249.\n",
      "Text number 59 out of all 150 rows in the input file: Sentiment score = 0.3818.\n",
      "Text number 60 out of all 150 rows in the input file: Sentiment score = 0.7506.\n",
      "Text number 61 out of all 150 rows in the input file: Sentiment score = 0.0.\n",
      "Text number 62 out of all 150 rows in the input file: Sentiment score = 0.0.\n",
      "Text number 63 out of all 150 rows in the input file: Sentiment score = -0.1779.\n",
      "Text number 64 out of all 150 rows in the input file: Sentiment score = 0.0.\n",
      "Text number 65 out of all 150 rows in the input file: Sentiment score = -0.6124.\n",
      "Text number 66 out of all 150 rows in the input file: Sentiment score = -0.3818.\n",
      "Text number 67 out of all 150 rows in the input file: Sentiment score = 0.25.\n",
      "Text number 68 out of all 150 rows in the input file: Sentiment score = 0.4215.\n",
      "Text number 69 out of all 150 rows in the input file: Sentiment score = 0.0.\n",
      "Text number 70 out of all 150 rows in the input file: Sentiment score = 0.7717.\n",
      "Text number 71 out of all 150 rows in the input file: Sentiment score = 0.9153.\n",
      "Text number 72 out of all 150 rows in the input file: Sentiment score = -0.128.\n",
      "Text number 73 out of all 150 rows in the input file: Sentiment score = 0.0.\n",
      "Text number 74 out of all 150 rows in the input file: Sentiment score = -0.1027.\n",
      "Text number 75 out of all 150 rows in the input file: Sentiment score = 0.3818.\n",
      "Text number 76 out of all 150 rows in the input file: Sentiment score = 0.5574.\n",
      "Text number 77 out of all 150 rows in the input file: Sentiment score = -0.6705.\n",
      "Text number 78 out of all 150 rows in the input file: Sentiment score = -0.1027.\n",
      "Text number 79 out of all 150 rows in the input file: Sentiment score = -0.1027.\n",
      "Text number 80 out of all 150 rows in the input file: Sentiment score = -0.5106.\n",
      "Text number 81 out of all 150 rows in the input file: Sentiment score = -0.5106.\n",
      "Text number 82 out of all 150 rows in the input file: Sentiment score = 0.3182.\n",
      "Text number 83 out of all 150 rows in the input file: Sentiment score = 0.0.\n",
      "Text number 84 out of all 150 rows in the input file: Sentiment score = 0.6808.\n",
      "Text number 85 out of all 150 rows in the input file: Sentiment score = 0.7184.\n",
      "Text number 86 out of all 150 rows in the input file: Sentiment score = 0.9485.\n",
      "Text number 87 out of all 150 rows in the input file: Sentiment score = 0.4939.\n",
      "Text number 88 out of all 150 rows in the input file: Sentiment score = 0.8625.\n",
      "Text number 89 out of all 150 rows in the input file: Sentiment score = 0.2732.\n",
      "Text number 90 out of all 150 rows in the input file: Sentiment score = 0.0516.\n",
      "Text number 91 out of all 150 rows in the input file: Sentiment score = -0.3612.\n",
      "Text number 92 out of all 150 rows in the input file: Sentiment score = 0.0.\n",
      "Text number 93 out of all 150 rows in the input file: Sentiment score = -0.8519.\n",
      "Text number 94 out of all 150 rows in the input file: Sentiment score = -0.128.\n",
      "Text number 95 out of all 150 rows in the input file: Sentiment score = 0.2732.\n",
      "Text number 96 out of all 150 rows in the input file: Sentiment score = -0.296.\n",
      "Text number 97 out of all 150 rows in the input file: Sentiment score = 0.0.\n",
      "Text number 98 out of all 150 rows in the input file: Sentiment score = -0.6369.\n",
      "Text number 99 out of all 150 rows in the input file: Sentiment score = -0.6369.\n",
      "Text number 100 out of all 150 rows in the input file: Sentiment score = 0.128.\n",
      "Text number 101 out of all 150 rows in the input file: Sentiment score = -0.4939.\n",
      "Text number 102 out of all 150 rows in the input file: Sentiment score = -0.7717.\n",
      "Text number 103 out of all 150 rows in the input file: Sentiment score = -0.6369.\n",
      "Text number 104 out of all 150 rows in the input file: Sentiment score = 0.0516.\n",
      "Text number 105 out of all 150 rows in the input file: Sentiment score = -0.5267.\n",
      "Text number 106 out of all 150 rows in the input file: Sentiment score = -0.3612.\n",
      "Text number 107 out of all 150 rows in the input file: Sentiment score = 0.802.\n",
      "Text number 108 out of all 150 rows in the input file: Sentiment score = -0.8481.\n",
      "Text number 109 out of all 150 rows in the input file: Sentiment score = -0.6124.\n",
      "Text number 110 out of all 150 rows in the input file: Sentiment score = 0.0.\n",
      "Text number 111 out of all 150 rows in the input file: Sentiment score = 0.0.\n",
      "Text number 112 out of all 150 rows in the input file: Sentiment score = 0.0516.\n",
      "Text number 113 out of all 150 rows in the input file: Sentiment score = -0.7964.\n",
      "Text number 114 out of all 150 rows in the input file: Sentiment score = -0.7964.\n",
      "Text number 115 out of all 150 rows in the input file: Sentiment score = -0.8555.\n",
      "Text number 116 out of all 150 rows in the input file: Sentiment score = -0.4404.\n",
      "Text number 117 out of all 150 rows in the input file: Sentiment score = 0.2023.\n",
      "Text number 118 out of all 150 rows in the input file: Sentiment score = 0.0.\n",
      "Text number 119 out of all 150 rows in the input file: Sentiment score = -0.7096.\n",
      "Text number 120 out of all 150 rows in the input file: Sentiment score = 0.25.\n",
      "Text number 121 out of all 150 rows in the input file: Sentiment score = 0.25.\n",
      "Text number 122 out of all 150 rows in the input file: Sentiment score = -0.3612.\n",
      "Text number 123 out of all 150 rows in the input file: Sentiment score = -0.3612.\n",
      "Text number 124 out of all 150 rows in the input file: Sentiment score = 0.0.\n",
      "Text number 125 out of all 150 rows in the input file: Sentiment score = 0.0516.\n",
      "Text number 126 out of all 150 rows in the input file: Sentiment score = 0.3182.\n",
      "Text number 127 out of all 150 rows in the input file: Sentiment score = 0.0516.\n",
      "Text number 128 out of all 150 rows in the input file: Sentiment score = 0.5106.\n",
      "Text number 129 out of all 150 rows in the input file: Sentiment score = 0.0.\n",
      "Text number 130 out of all 150 rows in the input file: Sentiment score = 0.0.\n",
      "Text number 131 out of all 150 rows in the input file: Sentiment score = 0.0.\n",
      "Text number 132 out of all 150 rows in the input file: Sentiment score = 0.0.\n",
      "Text number 133 out of all 150 rows in the input file: Sentiment score = 0.0.\n",
      "Text number 134 out of all 150 rows in the input file: Sentiment score = 0.0516.\n",
      "Text number 135 out of all 150 rows in the input file: Sentiment score = 0.0.\n",
      "Text number 136 out of all 150 rows in the input file: Sentiment score = -0.8591.\n",
      "Text number 137 out of all 150 rows in the input file: Sentiment score = -0.4019.\n",
      "Text number 138 out of all 150 rows in the input file: Sentiment score = 0.0.\n",
      "Text number 139 out of all 150 rows in the input file: Sentiment score = -0.25.\n",
      "Text number 140 out of all 150 rows in the input file: Sentiment score = -0.3612.\n",
      "Text number 141 out of all 150 rows in the input file: Sentiment score = -0.6249.\n",
      "Text number 142 out of all 150 rows in the input file: Sentiment score = 0.0.\n",
      "Text number 143 out of all 150 rows in the input file: Sentiment score = 0.0.\n",
      "Text number 144 out of all 150 rows in the input file: Sentiment score = -0.6249.\n",
      "Text number 145 out of all 150 rows in the input file: Sentiment score = -0.25.\n",
      "Text number 146 out of all 150 rows in the input file: Sentiment score = -0.9062.\n",
      "Text number 147 out of all 150 rows in the input file: Sentiment score = 0.0.\n",
      "Text number 148 out of all 150 rows in the input file: Sentiment score = 0.0.\n",
      "Text number 149 out of all 150 rows in the input file: Sentiment score = -0.3612.\n",
      "Text number 150 out of all 150 rows in the input file: Sentiment score = 0.0.\n",
      "----------------------------------------------------------------------------------------------------\n"
     ]
    }
   ],
   "source": [
    "# Apply sentiment analysis and store the compound score in a new column\n",
    "\n",
    "# Record the start time\n",
    "start_time = time.time()\n",
    "\n",
    "for i, row in enumerate(df_nltk.index):\n",
    "    text = df_nltk.at[row, 'Cleaned_Text']\n",
    "    sentiment_score = sia.polarity_scores(text)['compound']\n",
    "    df_nltk.at[row, 'NLTK_Sentiment'] = sentiment_score\n",
    "\n",
    "    # Print progress message\n",
    "    print(f\"Text number {i + 1} out of all {total_rows} rows in the input file: Sentiment score = {sentiment_score}.\")\n",
    "\n",
    "# Calculate the elapsed time\n",
    "end_time = time.time()\n",
    "elapsed_time = end_time - start_time\n",
    "\n",
    "print(\"-\"*100)"
   ],
   "metadata": {
    "collapsed": false
   }
  },
  {
   "cell_type": "code",
   "execution_count": 12,
   "outputs": [
    {
     "name": "stdout",
     "output_type": "stream",
     "text": [
      "The used approach was NLTK_VADER.\n",
      "Elapsed time: 0 hours, 0 mins, and 0 secs.\n"
     ]
    }
   ],
   "source": [
    "# Calculate hours, minutes, and seconds from the elapsed time\n",
    "hours = int(elapsed_time // 3600)\n",
    "minutes = int((elapsed_time % 3600) // 60)\n",
    "seconds = int(elapsed_time % 60)\n",
    "\n",
    "# Format the elapsed time string\n",
    "elapsed_time_str = f\"{hours} hours, {minutes} mins, and {seconds} secs\"\n",
    "\n",
    "# End information about the run\n",
    "print(f\"The used approach was {used_approach}.\")\n",
    "print(f\"Elapsed time: {elapsed_time_str}.\")"
   ],
   "metadata": {
    "collapsed": false
   }
  },
  {
   "cell_type": "code",
   "execution_count": 13,
   "outputs": [
    {
     "name": "stdout",
     "output_type": "stream",
     "text": [
      "Results saved as data/sentiment_results\\sentiment_results_nltk.csv and data/sentiment_results\\sentiment_results_nltk.xlsx.\n"
     ]
    }
   ],
   "source": [
    "# Saving the output in two file formats in dedicated files for only this current approach in the correct repository folder\n",
    "\n",
    "# Save the results to an Excel file\n",
    "excel_output_file_nltk = os.path.join(output_folder, 'sentiment_results_nltk.xlsx')\n",
    "df_nltk.to_excel(excel_output_file_nltk, index=False)\n",
    "\n",
    "# Save the results to a csv file with the same name\n",
    "csv_output_file_nltk = os.path.join(output_folder, 'sentiment_results_nltk.csv')\n",
    "df_nltk.to_csv(csv_output_file_nltk, index=False, encoding='utf-8', quoting=csv.QUOTE_ALL)\n",
    "\n",
    "# Print final info\n",
    "print(f\"Results saved as {csv_output_file_nltk} and {excel_output_file_nltk}.\")"
   ],
   "metadata": {
    "collapsed": false
   }
  },
  {
   "cell_type": "markdown",
   "source": [
    "### Explorative Analysis of NLTK (VADER)"
   ],
   "metadata": {
    "collapsed": false
   }
  },
  {
   "cell_type": "code",
   "execution_count": 14,
   "outputs": [
    {
     "name": "stdout",
     "output_type": "stream",
     "text": [
      "Statistics for NLTK Sentiment Score:\n",
      "\n",
      "Average Score:\n",
      "-0.04157\n",
      "\n",
      "Minimum Score:\n",
      "-0.9062\n",
      "\n",
      "Maximum Score:\n",
      "0.9485\n",
      "\n",
      "Standard Deviation:\n",
      "0.4544470654195671\n"
     ]
    }
   ],
   "source": [
    "# Calculate and print statistics for 'NLTK_Sentiment_Score' in df_nltk\n",
    "print(\"Statistics for NLTK Sentiment Score:\")\n",
    "\n",
    "# Average Score\n",
    "print(\"\\nAverage Score:\")\n",
    "print(df_nltk['NLTK_Sentiment'].mean())\n",
    "\n",
    "# Minimum Score\n",
    "print(\"\\nMinimum Score:\")\n",
    "print(df_nltk['NLTK_Sentiment'].min())\n",
    "\n",
    "# Maximum Score\n",
    "print(\"\\nMaximum Score:\")\n",
    "print(df_nltk['NLTK_Sentiment'].max())\n",
    "\n",
    "# Standard Deviation\n",
    "print(\"\\nStandard Deviation:\")\n",
    "print(df_nltk['NLTK_Sentiment'].std())"
   ],
   "metadata": {
    "collapsed": false
   }
  },
  {
   "cell_type": "code",
   "execution_count": 15,
   "outputs": [
    {
     "name": "stdout",
     "output_type": "stream",
     "text": [
      "     Row_Number      Unternehmen Newstyp           Quelle Nearest_Date  \\\n",
      "85           86         Covestro    News          onvista   2021-09-03   \n",
      "12           13              SAP    News          onvista   2021-06-16   \n",
      "70           71           Adidas    News          onvista   2021-08-13   \n",
      "15           16              SAP    News          onvista   2021-06-21   \n",
      "6             7          Vonovia    News          onvista   2021-06-11   \n",
      "107         108           Adidas    News          onvista   2021-09-29   \n",
      "92           93   Siemens Energy    News          onvista   2021-09-09   \n",
      "114         115           Adidas    News          onvista   2021-10-05   \n",
      "135         136          Zalando    News  The Motley Fool   2021-10-18   \n",
      "145         146         Covestro    News          onvista   2021-10-19   \n",
      "13           14              SAP    News          onvista   2021-06-16   \n",
      "25           26           Adidas    News          onvista   2021-06-25   \n",
      "31           32  Sartorius (Vz.)    News          onvista   2021-07-06   \n",
      "124         125              SAP    News          onvista   2021-10-13   \n",
      "89           90         Covestro    News          onvista   2021-09-06   \n",
      "\n",
      "                                          Cleaned_Text    Stock_Value  \\\n",
      "85   Dax bewegen Zooplus Rekordhoch Anleger spekuli...        neutral   \n",
      "12   deutsch Bank Investmentbanking Vogel abschieße...        neutral   \n",
      "70   Dax erklimmen neu Höchstmarke Delivery Hero Ta...  very_positive   \n",
      "15   Comon Börsenpodcast Fedkurswechsel schlagen Do...        neutral   \n",
      "6    Curevac Spahn streichen Impfstoff Planung Appl...       positive   \n",
      "107  Dax fallen Sog vieler Marktsorge Prozent techw...       positive   \n",
      "92   Dax deutlich Knie anlegersorgen Siemens energy...        neutral   \n",
      "114  Dax geraten angesichts schwach Wall Street Abw...        neutral   \n",
      "135  zalando Etsy Pinterest Topecommerceaktien Okto...        neutral   \n",
      "145  Dax Leitindex kalt Dusche Wochenstart Hellofre...       negative   \n",
      "13   Onvista Mahlzeit Dax Fedentscheid Minus Jinkos...        neutral   \n",
      "25   Onvista Mahlzeit Dax Schwung Eli Lilly Adidas ...  very_positive   \n",
      "31   Onvista Mahlzeit Dax unentschlossen byd Softba...        neutral   \n",
      "124  Onvista Mahlzeit Dax mutig Curevac sap Solarwe...  very_positive   \n",
      "89   Onvista Mahlzeit Dax ezb Sitzung Woche Biontec...  very_positive   \n",
      "\n",
      "     NLTK_Sentiment  \n",
      "85           0.9485  \n",
      "12           0.9186  \n",
      "70           0.9153  \n",
      "15           0.8910  \n",
      "6            0.8720  \n",
      "107         -0.8481  \n",
      "92          -0.8519  \n",
      "114         -0.8555  \n",
      "135         -0.8591  \n",
      "145         -0.9062  \n",
      "13           0.0516  \n",
      "25           0.0516  \n",
      "31           0.0516  \n",
      "124          0.0516  \n",
      "89           0.0516  \n"
     ]
    }
   ],
   "source": [
    "# Check some results of NLTK (VADER)\n",
    "\n",
    "# Sort the DataFrame by sentiment scores (positive to negative)\n",
    "df_nltk_sorted = df_nltk.sort_values(by='NLTK_Sentiment', ascending=False)\n",
    "\n",
    "# Select the 5 most positive entries\n",
    "most_positive_entries = df_nltk_sorted.head(5)\n",
    "\n",
    "# Select the 5 most negative entries\n",
    "most_negative_entries = df_nltk_sorted.tail(5)\n",
    "\n",
    "# Select 5 entries with exactly neutral scores (around 0)\n",
    "neutral_entries = df_nltk_sorted[(df_nltk_sorted['NLTK_Sentiment'] >= -0.1) & (df_nltk_sorted['NLTK_Sentiment'] <= 0.1)].head(5)\n",
    "\n",
    "# Concatenate the selected entries\n",
    "selected_entries = pd.concat([most_positive_entries, most_negative_entries, neutral_entries])\n",
    "\n",
    "# Display all columns for the selected entries\n",
    "print(selected_entries)"
   ],
   "metadata": {
    "collapsed": false
   }
  },
  {
   "cell_type": "code",
   "execution_count": 16,
   "outputs": [
    {
     "data": {
      "text/plain": "<Figure size 800x600 with 1 Axes>",
      "image/png": "[encoded data removed]"
     },
     "metadata": {},
     "output_type": "display_data"
    }
   ],
   "source": [
    "# Create a histogram to visualize the distribution of sentiment scores\n",
    "plt.figure(figsize=(8, 6))\n",
    "plt.hist(df_nltk['NLTK_Sentiment'], bins=20, color='skyblue', edgecolor='black')\n",
    "plt.title('Distribution of NLTK VADER Sentiment Scores')\n",
    "plt.xlabel('Sentiment Score')\n",
    "plt.ylabel('Frequency')\n",
    "plt.grid(axis='y', linestyle='--', alpha=0.7)\n",
    "plt.show()"
   ],
   "metadata": {
    "collapsed": false
   }
  },
  {
   "cell_type": "markdown",
   "source": [
    "### 3rd Approach with BERT"
   ],
   "metadata": {
    "collapsed": false
   }
  },
  {
   "cell_type": "markdown",
   "source": [
    "#### Short intro\n",
    "**B**idirectional **E**ncoder **R**epresentations from **T**ransformers (**BERT**) is a family of language models introduced in 2018 by researchers at Google.\n",
    "BERT is an \"encoder-only\" transformer architecture.\n",
    "\n",
    "On a high level, BERT consists of three modules:\n",
    "\n",
    "- **embedding**. This module converts an array of one-hot encoded tokens into an array of vectors representing the tokens.\n",
    "- a **stack of encoders**. These encoders are the Transformer encoders. They perform transformations over the array of representation vectors.\n",
    "- **un-embedding**. This module converts the final representation vectors into one-hot encoded tokens again.\n",
    "\n",
    "There are different BERT models available out there.\n",
    "\n",
    "**BERT-Large (e.g., bert-large-uncased):**\n",
    "- one of the largest versions of BERT, with more parameters, making it capable of handling longer text\n",
    "- high accuracy; can capture detailed context\n",
    "- requires substantial computational resources and may be slower to run\n",
    "\n",
    "**RoBERTa (e.g., roberta-large):**\n",
    "- similar to BERT, but fine-tuned for better performance\n",
    "- has been optimized for efficiency, can handle longer text as well\n",
    "- often performs at par with BERT-Large but with lower computational requirements\n",
    "\n",
    "**Longformer (e.g., allenai/longformer-large-4096):**\n",
    "- designed specifically for handling long documents and sequences\n",
    "- well-suited for tasks involving lengthy text, like news articles\n",
    "- significantly extends the maximum token limit (e.g., up to 4096 tokens) compared to traditional BERT models\n",
    "\n",
    "**Electra (e.g., google/electra-large-discriminator):**\n",
    "- efficient and performs well on various NLP tasks\n",
    "- not explicitly designed for long text, but it can still be used for document-level sentiment analysis effectively\n",
    "\n",
    "**DistilBERT (e.g., distilbert-base-uncased):**\n",
    "- smaller and more efficient version of BERT.\n",
    "- may have limitations in handling very long texts due to its reduced model size\n",
    "\n",
    "#### Result\n",
    "BERT-Large might be used if resources can handle it. If not, RoBERTa will receive a try.\n",
    "First try however, due to it being suited for news texts is Longformer.\n",
    "Electra and DistilBERT don't appear to be good choices."
   ],
   "metadata": {
    "collapsed": false
   }
  },
  {
   "cell_type": "markdown",
   "source": [
    "#### Using BERT-Large"
   ],
   "metadata": {
    "collapsed": false
   }
  },
  {
   "cell_type": "code",
   "execution_count": 17,
   "outputs": [
    {
     "name": "stderr",
     "output_type": "stream",
     "text": [
      "Some weights of BertForSequenceClassification were not initialized from the model checkpoint at bert-large-uncased and are newly initialized: ['classifier.bias', 'classifier.weight']\n",
      "You should probably TRAIN this model on a down-stream task to be able to use it for predictions and inference.\n"
     ]
    },
    {
     "name": "stdout",
     "output_type": "stream",
     "text": [
      "Analyzing text number 1 out of 150 rows in the input file.\n",
      "Analyzing text number 2 out of 150 rows in the input file.\n",
      "Analyzing text number 3 out of 150 rows in the input file.\n",
      "Analyzing text number 4 out of 150 rows in the input file.\n",
      "Analyzing text number 5 out of 150 rows in the input file.\n",
      "Analyzing text number 6 out of 150 rows in the input file.\n",
      "Analyzing text number 7 out of 150 rows in the input file.\n",
      "Analyzing text number 8 out of 150 rows in the input file.\n",
      "Analyzing text number 9 out of 150 rows in the input file.\n",
      "Analyzing text number 10 out of 150 rows in the input file.\n",
      "Analyzing text number 11 out of 150 rows in the input file.\n",
      "Analyzing text number 12 out of 150 rows in the input file.\n",
      "Analyzing text number 13 out of 150 rows in the input file.\n",
      "Analyzing text number 14 out of 150 rows in the input file.\n",
      "Analyzing text number 15 out of 150 rows in the input file.\n",
      "Analyzing text number 16 out of 150 rows in the input file.\n",
      "Analyzing text number 17 out of 150 rows in the input file.\n",
      "Analyzing text number 18 out of 150 rows in the input file.\n",
      "Analyzing text number 19 out of 150 rows in the input file.\n",
      "Analyzing text number 20 out of 150 rows in the input file.\n",
      "Analyzing text number 21 out of 150 rows in the input file.\n",
      "Analyzing text number 22 out of 150 rows in the input file.\n",
      "Analyzing text number 23 out of 150 rows in the input file.\n",
      "Analyzing text number 24 out of 150 rows in the input file.\n",
      "Analyzing text number 25 out of 150 rows in the input file.\n",
      "Analyzing text number 26 out of 150 rows in the input file.\n",
      "Analyzing text number 27 out of 150 rows in the input file.\n",
      "Analyzing text number 28 out of 150 rows in the input file.\n",
      "Analyzing text number 29 out of 150 rows in the input file.\n",
      "Analyzing text number 30 out of 150 rows in the input file.\n",
      "Analyzing text number 31 out of 150 rows in the input file.\n",
      "Analyzing text number 32 out of 150 rows in the input file.\n",
      "Analyzing text number 33 out of 150 rows in the input file.\n",
      "Analyzing text number 34 out of 150 rows in the input file.\n",
      "Analyzing text number 35 out of 150 rows in the input file.\n",
      "Analyzing text number 36 out of 150 rows in the input file.\n",
      "Analyzing text number 37 out of 150 rows in the input file.\n",
      "Analyzing text number 38 out of 150 rows in the input file.\n",
      "Analyzing text number 39 out of 150 rows in the input file.\n",
      "Analyzing text number 40 out of 150 rows in the input file.\n",
      "Analyzing text number 41 out of 150 rows in the input file.\n",
      "Analyzing text number 42 out of 150 rows in the input file.\n",
      "Analyzing text number 43 out of 150 rows in the input file.\n",
      "Analyzing text number 44 out of 150 rows in the input file.\n",
      "Analyzing text number 45 out of 150 rows in the input file.\n",
      "Analyzing text number 46 out of 150 rows in the input file.\n",
      "Analyzing text number 47 out of 150 rows in the input file.\n",
      "Analyzing text number 48 out of 150 rows in the input file.\n",
      "Analyzing text number 49 out of 150 rows in the input file.\n",
      "Analyzing text number 50 out of 150 rows in the input file.\n",
      "Analyzing text number 51 out of 150 rows in the input file.\n",
      "Analyzing text number 52 out of 150 rows in the input file.\n",
      "Analyzing text number 53 out of 150 rows in the input file.\n",
      "Analyzing text number 54 out of 150 rows in the input file.\n",
      "Analyzing text number 55 out of 150 rows in the input file.\n",
      "Analyzing text number 56 out of 150 rows in the input file.\n",
      "Analyzing text number 57 out of 150 rows in the input file.\n",
      "Analyzing text number 58 out of 150 rows in the input file.\n",
      "Analyzing text number 59 out of 150 rows in the input file.\n",
      "Analyzing text number 60 out of 150 rows in the input file.\n",
      "Analyzing text number 61 out of 150 rows in the input file.\n",
      "Analyzing text number 62 out of 150 rows in the input file.\n",
      "Analyzing text number 63 out of 150 rows in the input file.\n",
      "Analyzing text number 64 out of 150 rows in the input file.\n",
      "Analyzing text number 65 out of 150 rows in the input file.\n",
      "Analyzing text number 66 out of 150 rows in the input file.\n",
      "Analyzing text number 67 out of 150 rows in the input file.\n",
      "Analyzing text number 68 out of 150 rows in the input file.\n",
      "Analyzing text number 69 out of 150 rows in the input file.\n",
      "Analyzing text number 70 out of 150 rows in the input file.\n",
      "Analyzing text number 71 out of 150 rows in the input file.\n",
      "Analyzing text number 72 out of 150 rows in the input file.\n",
      "Analyzing text number 73 out of 150 rows in the input file.\n",
      "Analyzing text number 74 out of 150 rows in the input file.\n",
      "Analyzing text number 75 out of 150 rows in the input file.\n",
      "Analyzing text number 76 out of 150 rows in the input file.\n",
      "Analyzing text number 77 out of 150 rows in the input file.\n",
      "Analyzing text number 78 out of 150 rows in the input file.\n",
      "Analyzing text number 79 out of 150 rows in the input file.\n",
      "Analyzing text number 80 out of 150 rows in the input file.\n",
      "Analyzing text number 81 out of 150 rows in the input file.\n",
      "Analyzing text number 82 out of 150 rows in the input file.\n",
      "Analyzing text number 83 out of 150 rows in the input file.\n",
      "Analyzing text number 84 out of 150 rows in the input file.\n",
      "Analyzing text number 85 out of 150 rows in the input file.\n",
      "Analyzing text number 86 out of 150 rows in the input file.\n",
      "Analyzing text number 87 out of 150 rows in the input file.\n",
      "Analyzing text number 88 out of 150 rows in the input file.\n",
      "Analyzing text number 89 out of 150 rows in the input file.\n",
      "Analyzing text number 90 out of 150 rows in the input file.\n",
      "Analyzing text number 91 out of 150 rows in the input file.\n",
      "Analyzing text number 92 out of 150 rows in the input file.\n",
      "Analyzing text number 93 out of 150 rows in the input file.\n",
      "Analyzing text number 94 out of 150 rows in the input file.\n",
      "Analyzing text number 95 out of 150 rows in the input file.\n",
      "Analyzing text number 96 out of 150 rows in the input file.\n",
      "Analyzing text number 97 out of 150 rows in the input file.\n",
      "Analyzing text number 98 out of 150 rows in the input file.\n",
      "Analyzing text number 99 out of 150 rows in the input file.\n",
      "Analyzing text number 100 out of 150 rows in the input file.\n",
      "Analyzing text number 101 out of 150 rows in the input file.\n",
      "Analyzing text number 102 out of 150 rows in the input file.\n",
      "Analyzing text number 103 out of 150 rows in the input file.\n",
      "Analyzing text number 104 out of 150 rows in the input file.\n",
      "Analyzing text number 105 out of 150 rows in the input file.\n",
      "Analyzing text number 106 out of 150 rows in the input file.\n",
      "Analyzing text number 107 out of 150 rows in the input file.\n",
      "Analyzing text number 108 out of 150 rows in the input file.\n",
      "Analyzing text number 109 out of 150 rows in the input file.\n",
      "Analyzing text number 110 out of 150 rows in the input file.\n",
      "Analyzing text number 111 out of 150 rows in the input file.\n",
      "Analyzing text number 112 out of 150 rows in the input file.\n",
      "Analyzing text number 113 out of 150 rows in the input file.\n",
      "Analyzing text number 114 out of 150 rows in the input file.\n",
      "Analyzing text number 115 out of 150 rows in the input file.\n",
      "Analyzing text number 116 out of 150 rows in the input file.\n",
      "Analyzing text number 117 out of 150 rows in the input file.\n",
      "Analyzing text number 118 out of 150 rows in the input file.\n",
      "Analyzing text number 119 out of 150 rows in the input file.\n",
      "Analyzing text number 120 out of 150 rows in the input file.\n",
      "Analyzing text number 121 out of 150 rows in the input file.\n",
      "Analyzing text number 122 out of 150 rows in the input file.\n",
      "Analyzing text number 123 out of 150 rows in the input file.\n",
      "Analyzing text number 124 out of 150 rows in the input file.\n",
      "Analyzing text number 125 out of 150 rows in the input file.\n",
      "Analyzing text number 126 out of 150 rows in the input file.\n",
      "Analyzing text number 127 out of 150 rows in the input file.\n",
      "Analyzing text number 128 out of 150 rows in the input file.\n",
      "Analyzing text number 129 out of 150 rows in the input file.\n",
      "Analyzing text number 130 out of 150 rows in the input file.\n",
      "Analyzing text number 131 out of 150 rows in the input file.\n",
      "Analyzing text number 132 out of 150 rows in the input file.\n",
      "Analyzing text number 133 out of 150 rows in the input file.\n",
      "Analyzing text number 134 out of 150 rows in the input file.\n",
      "Analyzing text number 135 out of 150 rows in the input file.\n",
      "Analyzing text number 136 out of 150 rows in the input file.\n",
      "Analyzing text number 137 out of 150 rows in the input file.\n",
      "Analyzing text number 138 out of 150 rows in the input file.\n",
      "Analyzing text number 139 out of 150 rows in the input file.\n",
      "Analyzing text number 140 out of 150 rows in the input file.\n",
      "Analyzing text number 141 out of 150 rows in the input file.\n",
      "Analyzing text number 142 out of 150 rows in the input file.\n",
      "Analyzing text number 143 out of 150 rows in the input file.\n",
      "Analyzing text number 144 out of 150 rows in the input file.\n",
      "Analyzing text number 145 out of 150 rows in the input file.\n",
      "Analyzing text number 146 out of 150 rows in the input file.\n",
      "Analyzing text number 147 out of 150 rows in the input file.\n",
      "Analyzing text number 148 out of 150 rows in the input file.\n",
      "Analyzing text number 149 out of 150 rows in the input file.\n",
      "Analyzing text number 150 out of 150 rows in the input file.\n",
      "----------------------------------------------------------------------------------------------------\n"
     ]
    }
   ],
   "source": [
    "import torch\n",
    "from transformers import BertTokenizer, BertForSequenceClassification\n",
    "\n",
    "# Load the BERT-Large model and tokenizer\n",
    "used_approach = \"BERT-Large\" #setting it for later reference\n",
    "\n",
    "model_name = 'bert-large-uncased'\n",
    "tokenizer = BertTokenizer.from_pretrained(model_name)\n",
    "model = BertForSequenceClassification.from_pretrained(model_name)\n",
    "model.eval()\n",
    "\n",
    "# Create lists to store the results\n",
    "sentiments = []\n",
    "\n",
    "# Record the start time\n",
    "start_time = time.time()\n",
    "\n",
    "# Loop through each row in the DataFrame\n",
    "for current_row, (index, row) in enumerate(df_bert_large.iterrows(), start=1):\n",
    "    text = row['Cleaned_Text']\n",
    "\n",
    "    # Pre-process the text\n",
    "    inputs = tokenizer(text, return_tensors='pt', truncation=True, padding=True)\n",
    "\n",
    "    # Perform sentiment analysis\n",
    "    with torch.no_grad():\n",
    "        outputs = model(**inputs)\n",
    "        logits = outputs.logits\n",
    "        probabilities = F.softmax(logits, dim=1)  # Use the PyTorch softmax function\n",
    "\n",
    "    # Extract the predicted sentiment label\n",
    "    predicted_label = torch.argmax(probabilities).item()  # NOTE: Only labels are easily available from BERT, no raw sentiment score or similar.\n",
    "    sentiment_labels = [\"Negative\", \"Neutral\", \"Positive\"]  # Customize as needed\n",
    "    predicted_sentiment = sentiment_labels[predicted_label]\n",
    "\n",
    "    # Append the result to the lists\n",
    "    sentiments.append(predicted_sentiment)\n",
    "\n",
    "    # Print progress update\n",
    "    print(f\"Analyzing text number {current_row} out of {total_rows} rows in the input file.\")\n",
    "\n",
    "# Add the sentiments and the raw sentiment scores as new columns to the DataFrame\n",
    "df_bert_large['BERT_Large_Sentiment'] = sentiments\n",
    "\n",
    "# Calculate the elapsed time\n",
    "end_time = time.time()\n",
    "elapsed_time = end_time - start_time\n",
    "\n",
    "print(\"-\"*100)"
   ],
   "metadata": {
    "collapsed": false
   }
  },
  {
   "cell_type": "code",
   "execution_count": 18,
   "outputs": [
    {
     "name": "stdout",
     "output_type": "stream",
     "text": [
      "The used approach was BERT-Large.\n",
      "Elapsed time: 0 hours, 6 mins, and 58 secs.\n"
     ]
    }
   ],
   "source": [
    "# Calculate hours, minutes, and seconds from the elapsed time\n",
    "hours = int(elapsed_time // 3600)\n",
    "minutes = int((elapsed_time % 3600) // 60)\n",
    "seconds = int(elapsed_time % 60)\n",
    "\n",
    "# Format the elapsed time string\n",
    "elapsed_time_str = f\"{hours} hours, {minutes} mins, and {seconds} secs\"\n",
    "\n",
    "# End information about the run\n",
    "print(f\"The used approach was {used_approach}.\")\n",
    "print(f\"Elapsed time: {elapsed_time_str}.\")"
   ],
   "metadata": {
    "collapsed": false
   }
  },
  {
   "cell_type": "code",
   "execution_count": 19,
   "outputs": [
    {
     "name": "stdout",
     "output_type": "stream",
     "text": [
      "Results saved as data/sentiment_results\\sentiment_results_BERT_large.csv and data/sentiment_results\\sentiment_results_BERT_large.xlsx.\n"
     ]
    }
   ],
   "source": [
    "# Saving the output in two file formats in dedicated files for only this current approach in the correct repository folder\n",
    "\n",
    "# Save the results to an Excel file\n",
    "excel_output_file_BERT_large = os.path.join(output_folder, 'sentiment_results_BERT_large.xlsx')\n",
    "df_bert_large.to_excel(excel_output_file_BERT_large, index=False)\n",
    "\n",
    "# Save the results to a csv file with the same name\n",
    "csv_output_file_BERT_large = os.path.join(output_folder, 'sentiment_results_BERT_large.csv')\n",
    "df_bert_large.to_csv(csv_output_file_BERT_large, index=False, encoding='utf-8', quoting=csv.QUOTE_ALL)\n",
    "\n",
    "# Print final info\n",
    "print(f\"Results saved as {csv_output_file_BERT_large} and {excel_output_file_BERT_large}.\")"
   ],
   "metadata": {
    "collapsed": false
   }
  },
  {
   "cell_type": "markdown",
   "source": [
    "#### Explorative Analysis of BERT-Large"
   ],
   "metadata": {
    "collapsed": false
   }
  },
  {
   "cell_type": "code",
   "execution_count": 20,
   "outputs": [
    {
     "data": {
      "text/plain": "<Figure size 800x600 with 1 Axes>",
      "image/png": "[encoded data removed]"
     },
     "metadata": {},
     "output_type": "display_data"
    }
   ],
   "source": [
    "# Count the occurrences of each sentiment label\n",
    "sentiment_counts = df_bert_large['BERT_Large_Sentiment'].value_counts()\n",
    "\n",
    "# Define the order of sentiment categories\n",
    "sentiment_order = ['Positive', 'Neutral', 'Negative']\n",
    "\n",
    "# Define colors for the sentiment categories\n",
    "colors = {'Positive': 'green', 'Neutral': 'gray', 'Negative': 'red'}\n",
    "\n",
    "# Create a bar plot (histogram) for sentiment distribution with correct colors and order\n",
    "plt.figure(figsize=(8, 6))\n",
    "sns.set_palette([colors[s] for s in sentiment_order])\n",
    "sns.barplot(x=sentiment_counts.index, y=sentiment_counts.values, order=sentiment_order)\n",
    "plt.title('Sentiment Distribution - BERT-Large')\n",
    "plt.xlabel('Sentiment Label')\n",
    "plt.ylabel('Count of Sentiment')\n",
    "\n",
    "plt.show()"
   ],
   "metadata": {
    "collapsed": false
   }
  },
  {
   "cell_type": "markdown",
   "source": [
    "#### Using RoBERTa"
   ],
   "metadata": {
    "collapsed": false
   }
  },
  {
   "cell_type": "code",
   "execution_count": 21,
   "outputs": [
    {
     "name": "stderr",
     "output_type": "stream",
     "text": [
      "Some weights of RobertaForSequenceClassification were not initialized from the model checkpoint at roberta-large and are newly initialized: ['classifier.out_proj.weight', 'classifier.dense.weight', 'classifier.dense.bias', 'classifier.out_proj.bias']\n",
      "You should probably TRAIN this model on a down-stream task to be able to use it for predictions and inference.\n",
      "C:\\Users\\jannik.labs\\AppData\\Local\\Temp\\ipykernel_5436\\1661026564.py:28: UserWarning: To copy construct from a tensor, it is recommended to use sourceTensor.clone().detach() or sourceTensor.clone().detach().requires_grad_(True), rather than torch.tensor(sourceTensor).\n",
      "  probabilities = torch.tensor(probabilities)\n"
     ]
    },
    {
     "name": "stdout",
     "output_type": "stream",
     "text": [
      "Analyzing text number 1 out of 150 rows in the input file.\n",
      "Analyzing text number 2 out of 150 rows in the input file.\n",
      "Analyzing text number 3 out of 150 rows in the input file.\n",
      "Analyzing text number 4 out of 150 rows in the input file.\n",
      "Analyzing text number 5 out of 150 rows in the input file.\n",
      "Analyzing text number 6 out of 150 rows in the input file.\n",
      "Analyzing text number 7 out of 150 rows in the input file.\n",
      "Analyzing text number 8 out of 150 rows in the input file.\n",
      "Analyzing text number 9 out of 150 rows in the input file.\n",
      "Analyzing text number 10 out of 150 rows in the input file.\n",
      "Analyzing text number 11 out of 150 rows in the input file.\n",
      "Analyzing text number 12 out of 150 rows in the input file.\n",
      "Analyzing text number 13 out of 150 rows in the input file.\n",
      "Analyzing text number 14 out of 150 rows in the input file.\n",
      "Analyzing text number 15 out of 150 rows in the input file.\n",
      "Analyzing text number 16 out of 150 rows in the input file.\n",
      "Analyzing text number 17 out of 150 rows in the input file.\n",
      "Analyzing text number 18 out of 150 rows in the input file.\n",
      "Analyzing text number 19 out of 150 rows in the input file.\n",
      "Analyzing text number 20 out of 150 rows in the input file.\n",
      "Analyzing text number 21 out of 150 rows in the input file.\n",
      "Analyzing text number 22 out of 150 rows in the input file.\n",
      "Analyzing text number 23 out of 150 rows in the input file.\n",
      "Analyzing text number 24 out of 150 rows in the input file.\n",
      "Analyzing text number 25 out of 150 rows in the input file.\n",
      "Analyzing text number 26 out of 150 rows in the input file.\n",
      "Analyzing text number 27 out of 150 rows in the input file.\n",
      "Analyzing text number 28 out of 150 rows in the input file.\n",
      "Analyzing text number 29 out of 150 rows in the input file.\n",
      "Analyzing text number 30 out of 150 rows in the input file.\n",
      "Analyzing text number 31 out of 150 rows in the input file.\n",
      "Analyzing text number 32 out of 150 rows in the input file.\n",
      "Analyzing text number 33 out of 150 rows in the input file.\n",
      "Analyzing text number 34 out of 150 rows in the input file.\n",
      "Analyzing text number 35 out of 150 rows in the input file.\n",
      "Analyzing text number 36 out of 150 rows in the input file.\n",
      "Analyzing text number 37 out of 150 rows in the input file.\n",
      "Analyzing text number 38 out of 150 rows in the input file.\n",
      "Analyzing text number 39 out of 150 rows in the input file.\n",
      "Analyzing text number 40 out of 150 rows in the input file.\n",
      "Analyzing text number 41 out of 150 rows in the input file.\n",
      "Analyzing text number 42 out of 150 rows in the input file.\n",
      "Analyzing text number 43 out of 150 rows in the input file.\n",
      "Analyzing text number 44 out of 150 rows in the input file.\n",
      "Analyzing text number 45 out of 150 rows in the input file.\n",
      "Analyzing text number 46 out of 150 rows in the input file.\n",
      "Analyzing text number 47 out of 150 rows in the input file.\n",
      "Analyzing text number 48 out of 150 rows in the input file.\n",
      "Analyzing text number 49 out of 150 rows in the input file.\n",
      "Analyzing text number 50 out of 150 rows in the input file.\n",
      "Analyzing text number 51 out of 150 rows in the input file.\n",
      "Analyzing text number 52 out of 150 rows in the input file.\n",
      "Analyzing text number 53 out of 150 rows in the input file.\n",
      "Analyzing text number 54 out of 150 rows in the input file.\n",
      "Analyzing text number 55 out of 150 rows in the input file.\n",
      "Analyzing text number 56 out of 150 rows in the input file.\n",
      "Analyzing text number 57 out of 150 rows in the input file.\n",
      "Analyzing text number 58 out of 150 rows in the input file.\n",
      "Analyzing text number 59 out of 150 rows in the input file.\n",
      "Analyzing text number 60 out of 150 rows in the input file.\n",
      "Analyzing text number 61 out of 150 rows in the input file.\n",
      "Analyzing text number 62 out of 150 rows in the input file.\n",
      "Analyzing text number 63 out of 150 rows in the input file.\n",
      "Analyzing text number 64 out of 150 rows in the input file.\n",
      "Analyzing text number 65 out of 150 rows in the input file.\n",
      "Analyzing text number 66 out of 150 rows in the input file.\n",
      "Analyzing text number 67 out of 150 rows in the input file.\n",
      "Analyzing text number 68 out of 150 rows in the input file.\n",
      "Analyzing text number 69 out of 150 rows in the input file.\n",
      "Analyzing text number 70 out of 150 rows in the input file.\n",
      "Analyzing text number 71 out of 150 rows in the input file.\n",
      "Analyzing text number 72 out of 150 rows in the input file.\n",
      "Analyzing text number 73 out of 150 rows in the input file.\n",
      "Analyzing text number 74 out of 150 rows in the input file.\n",
      "Analyzing text number 75 out of 150 rows in the input file.\n",
      "Analyzing text number 76 out of 150 rows in the input file.\n",
      "Analyzing text number 77 out of 150 rows in the input file.\n",
      "Analyzing text number 78 out of 150 rows in the input file.\n",
      "Analyzing text number 79 out of 150 rows in the input file.\n",
      "Analyzing text number 80 out of 150 rows in the input file.\n",
      "Analyzing text number 81 out of 150 rows in the input file.\n",
      "Analyzing text number 82 out of 150 rows in the input file.\n",
      "Analyzing text number 83 out of 150 rows in the input file.\n",
      "Analyzing text number 84 out of 150 rows in the input file.\n",
      "Analyzing text number 85 out of 150 rows in the input file.\n",
      "Analyzing text number 86 out of 150 rows in the input file.\n",
      "Analyzing text number 87 out of 150 rows in the input file.\n",
      "Analyzing text number 88 out of 150 rows in the input file.\n",
      "Analyzing text number 89 out of 150 rows in the input file.\n",
      "Analyzing text number 90 out of 150 rows in the input file.\n",
      "Analyzing text number 91 out of 150 rows in the input file.\n",
      "Analyzing text number 92 out of 150 rows in the input file.\n",
      "Analyzing text number 93 out of 150 rows in the input file.\n",
      "Analyzing text number 94 out of 150 rows in the input file.\n",
      "Analyzing text number 95 out of 150 rows in the input file.\n",
      "Analyzing text number 96 out of 150 rows in the input file.\n",
      "Analyzing text number 97 out of 150 rows in the input file.\n",
      "Analyzing text number 98 out of 150 rows in the input file.\n",
      "Analyzing text number 99 out of 150 rows in the input file.\n",
      "Analyzing text number 100 out of 150 rows in the input file.\n",
      "Analyzing text number 101 out of 150 rows in the input file.\n",
      "Analyzing text number 102 out of 150 rows in the input file.\n",
      "Analyzing text number 103 out of 150 rows in the input file.\n",
      "Analyzing text number 104 out of 150 rows in the input file.\n",
      "Analyzing text number 105 out of 150 rows in the input file.\n",
      "Analyzing text number 106 out of 150 rows in the input file.\n",
      "Analyzing text number 107 out of 150 rows in the input file.\n",
      "Analyzing text number 108 out of 150 rows in the input file.\n",
      "Analyzing text number 109 out of 150 rows in the input file.\n",
      "Analyzing text number 110 out of 150 rows in the input file.\n",
      "Analyzing text number 111 out of 150 rows in the input file.\n",
      "Analyzing text number 112 out of 150 rows in the input file.\n",
      "Analyzing text number 113 out of 150 rows in the input file.\n",
      "Analyzing text number 114 out of 150 rows in the input file.\n",
      "Analyzing text number 115 out of 150 rows in the input file.\n",
      "Analyzing text number 116 out of 150 rows in the input file.\n",
      "Analyzing text number 117 out of 150 rows in the input file.\n",
      "Analyzing text number 118 out of 150 rows in the input file.\n",
      "Analyzing text number 119 out of 150 rows in the input file.\n",
      "Analyzing text number 120 out of 150 rows in the input file.\n",
      "Analyzing text number 121 out of 150 rows in the input file.\n",
      "Analyzing text number 122 out of 150 rows in the input file.\n",
      "Analyzing text number 123 out of 150 rows in the input file.\n",
      "Analyzing text number 124 out of 150 rows in the input file.\n",
      "Analyzing text number 125 out of 150 rows in the input file.\n",
      "Analyzing text number 126 out of 150 rows in the input file.\n",
      "Analyzing text number 127 out of 150 rows in the input file.\n",
      "Analyzing text number 128 out of 150 rows in the input file.\n",
      "Analyzing text number 129 out of 150 rows in the input file.\n",
      "Analyzing text number 130 out of 150 rows in the input file.\n",
      "Analyzing text number 131 out of 150 rows in the input file.\n",
      "Analyzing text number 132 out of 150 rows in the input file.\n",
      "Analyzing text number 133 out of 150 rows in the input file.\n",
      "Analyzing text number 134 out of 150 rows in the input file.\n",
      "Analyzing text number 135 out of 150 rows in the input file.\n",
      "Analyzing text number 136 out of 150 rows in the input file.\n",
      "Analyzing text number 137 out of 150 rows in the input file.\n",
      "Analyzing text number 138 out of 150 rows in the input file.\n",
      "Analyzing text number 139 out of 150 rows in the input file.\n",
      "Analyzing text number 140 out of 150 rows in the input file.\n",
      "Analyzing text number 141 out of 150 rows in the input file.\n",
      "Analyzing text number 142 out of 150 rows in the input file.\n",
      "Analyzing text number 143 out of 150 rows in the input file.\n",
      "Analyzing text number 144 out of 150 rows in the input file.\n",
      "Analyzing text number 145 out of 150 rows in the input file.\n",
      "Analyzing text number 146 out of 150 rows in the input file.\n",
      "Analyzing text number 147 out of 150 rows in the input file.\n",
      "Analyzing text number 148 out of 150 rows in the input file.\n",
      "Analyzing text number 149 out of 150 rows in the input file.\n",
      "Analyzing text number 150 out of 150 rows in the input file.\n",
      "----------------------------------------------------------------------------------------------------\n"
     ]
    }
   ],
   "source": [
    "# Load the RoBERTa model and tokenizer\n",
    "used_approach = \"RoBERTa\"  # setting it for later reference\n",
    "model_name = 'roberta-large'\n",
    "tokenizer = RobertaTokenizer.from_pretrained(model_name)\n",
    "model = RobertaForSequenceClassification.from_pretrained(model_name)\n",
    "model.eval()\n",
    "\n",
    "# Create a list to store the results\n",
    "sentiments = []\n",
    "\n",
    "# Record the start time\n",
    "start_time = time.time()\n",
    "\n",
    "# Loop through each row in the DataFrame\n",
    "for current_row, (index, row) in enumerate(df_bert_roberta.iterrows(), start=1):\n",
    "    text = row['Cleaned_Text']\n",
    "\n",
    "    # Pre-process the text\n",
    "    inputs = tokenizer(text, return_tensors='pt', truncation=True, padding=True)\n",
    "\n",
    "    # Perform sentiment analysis\n",
    "    with torch.no_grad():\n",
    "        outputs = model(**inputs)\n",
    "        logits = outputs.logits\n",
    "        probabilities = F.softmax(logits, dim=1)  # Use torch.nn.functional.softmax\n",
    "\n",
    "    # Convert probabilities to a PyTorch tensor\n",
    "    probabilities = torch.tensor(probabilities)\n",
    "\n",
    "    # Extract the predicted sentiment label\n",
    "    predicted_label = torch.argmax(probabilities).item()\n",
    "    sentiment_labels = [\"Negative\", \"Neutral\", \"Positive\"]  # Customize as needed\n",
    "    predicted_sentiment = sentiment_labels[predicted_label]\n",
    "\n",
    "    # Append the result to the list\n",
    "    sentiments.append(predicted_sentiment)\n",
    "\n",
    "    # Print progress update\n",
    "    print(f\"Analyzing text number {current_row} out of {total_rows} rows in the input file.\")\n",
    "\n",
    "# Add the sentiments as a new column to the DataFrame\n",
    "df_bert_roberta['RoBERTa_Sentiment'] = sentiments\n",
    "\n",
    "# Calculate the elapsed time\n",
    "end_time = time.time()\n",
    "elapsed_time = end_time - start_time\n",
    "\n",
    "print(\"-\" * 100)"
   ],
   "metadata": {
    "collapsed": false
   }
  },
  {
   "cell_type": "code",
   "execution_count": 22,
   "outputs": [
    {
     "name": "stdout",
     "output_type": "stream",
     "text": [
      "The used approach was RoBERTa.\n",
      "Elapsed time: 0 hours, 6 mins, and 53 secs.\n"
     ]
    }
   ],
   "source": [
    "# Calculate hours, minutes, and seconds from the elapsed time\n",
    "hours = int(elapsed_time // 3600)\n",
    "minutes = int((elapsed_time % 3600) // 60)\n",
    "seconds = int(elapsed_time % 60)\n",
    "\n",
    "# Format the elapsed time string\n",
    "elapsed_time_str = f\"{hours} hours, {minutes} mins, and {seconds} secs\"\n",
    "\n",
    "# End information about the run\n",
    "print(f\"The used approach was {used_approach}.\")\n",
    "print(f\"Elapsed time: {elapsed_time_str}.\")"
   ],
   "metadata": {
    "collapsed": false
   }
  },
  {
   "cell_type": "code",
   "execution_count": 23,
   "outputs": [
    {
     "name": "stdout",
     "output_type": "stream",
     "text": [
      "Results saved as data/sentiment_results\\sentiment_results_RoBERTa.csv and data/sentiment_results\\sentiment_results_RoBERTa.xlsx.\n"
     ]
    }
   ],
   "source": [
    "# Saving the output in two file formats in dedicated files for only this current approach in the correct repository folder\n",
    "\n",
    "# Save the results to an Excel file\n",
    "excel_output_file_RoBERTa = os.path.join(output_folder, 'sentiment_results_RoBERTa.xlsx')\n",
    "df_bert_roberta.to_excel(excel_output_file_RoBERTa, index=False)\n",
    "\n",
    "# Save the results to a csv file with the same name\n",
    "csv_output_file_RoBERTa = os.path.join(output_folder, 'sentiment_results_RoBERTa.csv')\n",
    "df_bert_roberta.to_csv(csv_output_file_RoBERTa, index=False, encoding='utf-8', quoting=csv.QUOTE_ALL)\n",
    "\n",
    "# Print final info\n",
    "print(f\"Results saved as {csv_output_file_RoBERTa} and {excel_output_file_RoBERTa}.\")"
   ],
   "metadata": {
    "collapsed": false
   }
  },
  {
   "cell_type": "markdown",
   "source": [
    "#### Explorative Analysis of RoBERTa"
   ],
   "metadata": {
    "collapsed": false
   }
  },
  {
   "cell_type": "code",
   "execution_count": 24,
   "outputs": [
    {
     "data": {
      "text/plain": "<Figure size 800x600 with 1 Axes>",
      "image/png": "[encoded data removed]"
     },
     "metadata": {},
     "output_type": "display_data"
    }
   ],
   "source": [
    "# Count the occurrences of each sentiment label\n",
    "sentiment_counts = df_bert_roberta['RoBERTa_Sentiment'].value_counts()\n",
    "\n",
    "# Define the order of sentiment categories\n",
    "sentiment_order = ['Positive', 'Neutral', 'Negative']\n",
    "\n",
    "# Define colors for the sentiment categories\n",
    "colors = {'Positive': 'green', 'Neutral': 'gray', 'Negative': 'red'}\n",
    "\n",
    "# Create a bar plot (histogram) for sentiment distribution with correct colors and order\n",
    "plt.figure(figsize=(8, 6))\n",
    "sns.set_palette([colors[s] for s in sentiment_order])\n",
    "sns.barplot(x=sentiment_counts.index, y=sentiment_counts.values, order=sentiment_order)\n",
    "plt.title('Sentiment Distribution - RoBERTa')\n",
    "plt.xlabel('Sentiment Label')\n",
    "plt.ylabel('Count of Sentiment')\n",
    "\n",
    "plt.show()"
   ],
   "metadata": {
    "collapsed": false
   }
  },
  {
   "cell_type": "markdown",
   "source": [
    "#### Using Longformer"
   ],
   "metadata": {
    "collapsed": false
   }
  },
  {
   "cell_type": "code",
   "execution_count": 25,
   "outputs": [
    {
     "name": "stderr",
     "output_type": "stream",
     "text": [
      "Some weights of LongformerForSequenceClassification were not initialized from the model checkpoint at allenai/longformer-base-4096 and are newly initialized: ['classifier.out_proj.weight', 'classifier.dense.weight', 'classifier.dense.bias', 'classifier.out_proj.bias']\n",
      "You should probably TRAIN this model on a down-stream task to be able to use it for predictions and inference.\n"
     ]
    },
    {
     "name": "stdout",
     "output_type": "stream",
     "text": [
      "Analyzing text number 1 out of 150 rows in the input file.\n",
      "Analyzing text number 2 out of 150 rows in the input file.\n",
      "Analyzing text number 3 out of 150 rows in the input file.\n",
      "Analyzing text number 4 out of 150 rows in the input file.\n",
      "Analyzing text number 5 out of 150 rows in the input file.\n",
      "Analyzing text number 6 out of 150 rows in the input file.\n",
      "Analyzing text number 7 out of 150 rows in the input file.\n",
      "Analyzing text number 8 out of 150 rows in the input file.\n",
      "Analyzing text number 9 out of 150 rows in the input file.\n",
      "Analyzing text number 10 out of 150 rows in the input file.\n",
      "Analyzing text number 11 out of 150 rows in the input file.\n",
      "Analyzing text number 12 out of 150 rows in the input file.\n",
      "Analyzing text number 13 out of 150 rows in the input file.\n",
      "Analyzing text number 14 out of 150 rows in the input file.\n",
      "Analyzing text number 15 out of 150 rows in the input file.\n",
      "Analyzing text number 16 out of 150 rows in the input file.\n",
      "Analyzing text number 17 out of 150 rows in the input file.\n",
      "Analyzing text number 18 out of 150 rows in the input file.\n",
      "Analyzing text number 19 out of 150 rows in the input file.\n",
      "Analyzing text number 20 out of 150 rows in the input file.\n",
      "Analyzing text number 21 out of 150 rows in the input file.\n",
      "Analyzing text number 22 out of 150 rows in the input file.\n",
      "Analyzing text number 23 out of 150 rows in the input file.\n",
      "Analyzing text number 24 out of 150 rows in the input file.\n",
      "Analyzing text number 25 out of 150 rows in the input file.\n",
      "Analyzing text number 26 out of 150 rows in the input file.\n",
      "Analyzing text number 27 out of 150 rows in the input file.\n",
      "Analyzing text number 28 out of 150 rows in the input file.\n",
      "Analyzing text number 29 out of 150 rows in the input file.\n",
      "Analyzing text number 30 out of 150 rows in the input file.\n",
      "Analyzing text number 31 out of 150 rows in the input file.\n",
      "Analyzing text number 32 out of 150 rows in the input file.\n",
      "Analyzing text number 33 out of 150 rows in the input file.\n",
      "Analyzing text number 34 out of 150 rows in the input file.\n",
      "Analyzing text number 35 out of 150 rows in the input file.\n",
      "Analyzing text number 36 out of 150 rows in the input file.\n",
      "Analyzing text number 37 out of 150 rows in the input file.\n",
      "Analyzing text number 38 out of 150 rows in the input file.\n",
      "Analyzing text number 39 out of 150 rows in the input file.\n",
      "Analyzing text number 40 out of 150 rows in the input file.\n",
      "Analyzing text number 41 out of 150 rows in the input file.\n",
      "Analyzing text number 42 out of 150 rows in the input file.\n",
      "Analyzing text number 43 out of 150 rows in the input file.\n",
      "Analyzing text number 44 out of 150 rows in the input file.\n",
      "Analyzing text number 45 out of 150 rows in the input file.\n",
      "Analyzing text number 46 out of 150 rows in the input file.\n",
      "Analyzing text number 47 out of 150 rows in the input file.\n",
      "Analyzing text number 48 out of 150 rows in the input file.\n",
      "Analyzing text number 49 out of 150 rows in the input file.\n",
      "Analyzing text number 50 out of 150 rows in the input file.\n",
      "Analyzing text number 51 out of 150 rows in the input file.\n",
      "Analyzing text number 52 out of 150 rows in the input file.\n",
      "Analyzing text number 53 out of 150 rows in the input file.\n",
      "Analyzing text number 54 out of 150 rows in the input file.\n",
      "Analyzing text number 55 out of 150 rows in the input file.\n",
      "Analyzing text number 56 out of 150 rows in the input file.\n",
      "Analyzing text number 57 out of 150 rows in the input file.\n",
      "Analyzing text number 58 out of 150 rows in the input file.\n",
      "Analyzing text number 59 out of 150 rows in the input file.\n",
      "Analyzing text number 60 out of 150 rows in the input file.\n",
      "Analyzing text number 61 out of 150 rows in the input file.\n",
      "Analyzing text number 62 out of 150 rows in the input file.\n",
      "Analyzing text number 63 out of 150 rows in the input file.\n",
      "Analyzing text number 64 out of 150 rows in the input file.\n",
      "Analyzing text number 65 out of 150 rows in the input file.\n",
      "Analyzing text number 66 out of 150 rows in the input file.\n",
      "Analyzing text number 67 out of 150 rows in the input file.\n",
      "Analyzing text number 68 out of 150 rows in the input file.\n",
      "Analyzing text number 69 out of 150 rows in the input file.\n",
      "Analyzing text number 70 out of 150 rows in the input file.\n",
      "Analyzing text number 71 out of 150 rows in the input file.\n",
      "Analyzing text number 72 out of 150 rows in the input file.\n",
      "Analyzing text number 73 out of 150 rows in the input file.\n",
      "Analyzing text number 74 out of 150 rows in the input file.\n",
      "Analyzing text number 75 out of 150 rows in the input file.\n",
      "Analyzing text number 76 out of 150 rows in the input file.\n",
      "Analyzing text number 77 out of 150 rows in the input file.\n",
      "Analyzing text number 78 out of 150 rows in the input file.\n",
      "Analyzing text number 79 out of 150 rows in the input file.\n",
      "Analyzing text number 80 out of 150 rows in the input file.\n",
      "Analyzing text number 81 out of 150 rows in the input file.\n",
      "Analyzing text number 82 out of 150 rows in the input file.\n",
      "Analyzing text number 83 out of 150 rows in the input file.\n",
      "Analyzing text number 84 out of 150 rows in the input file.\n",
      "Analyzing text number 85 out of 150 rows in the input file.\n",
      "Analyzing text number 86 out of 150 rows in the input file.\n",
      "Analyzing text number 87 out of 150 rows in the input file.\n",
      "Analyzing text number 88 out of 150 rows in the input file.\n",
      "Analyzing text number 89 out of 150 rows in the input file.\n",
      "Analyzing text number 90 out of 150 rows in the input file.\n",
      "Analyzing text number 91 out of 150 rows in the input file.\n",
      "Analyzing text number 92 out of 150 rows in the input file.\n",
      "Analyzing text number 93 out of 150 rows in the input file.\n",
      "Analyzing text number 94 out of 150 rows in the input file.\n",
      "Analyzing text number 95 out of 150 rows in the input file.\n",
      "Analyzing text number 96 out of 150 rows in the input file.\n",
      "Analyzing text number 97 out of 150 rows in the input file.\n",
      "Analyzing text number 98 out of 150 rows in the input file.\n",
      "Analyzing text number 99 out of 150 rows in the input file.\n",
      "Analyzing text number 100 out of 150 rows in the input file.\n",
      "Analyzing text number 101 out of 150 rows in the input file.\n",
      "Analyzing text number 102 out of 150 rows in the input file.\n",
      "Analyzing text number 103 out of 150 rows in the input file.\n",
      "Analyzing text number 104 out of 150 rows in the input file.\n",
      "Analyzing text number 105 out of 150 rows in the input file.\n",
      "Analyzing text number 106 out of 150 rows in the input file.\n",
      "Analyzing text number 107 out of 150 rows in the input file.\n",
      "Analyzing text number 108 out of 150 rows in the input file.\n",
      "Analyzing text number 109 out of 150 rows in the input file.\n",
      "Analyzing text number 110 out of 150 rows in the input file.\n",
      "Analyzing text number 111 out of 150 rows in the input file.\n",
      "Analyzing text number 112 out of 150 rows in the input file.\n",
      "Analyzing text number 113 out of 150 rows in the input file.\n",
      "Analyzing text number 114 out of 150 rows in the input file.\n",
      "Analyzing text number 115 out of 150 rows in the input file.\n",
      "Analyzing text number 116 out of 150 rows in the input file.\n",
      "Analyzing text number 117 out of 150 rows in the input file.\n",
      "Analyzing text number 118 out of 150 rows in the input file.\n",
      "Analyzing text number 119 out of 150 rows in the input file.\n",
      "Analyzing text number 120 out of 150 rows in the input file.\n",
      "Analyzing text number 121 out of 150 rows in the input file.\n",
      "Analyzing text number 122 out of 150 rows in the input file.\n",
      "Analyzing text number 123 out of 150 rows in the input file.\n",
      "Analyzing text number 124 out of 150 rows in the input file.\n",
      "Analyzing text number 125 out of 150 rows in the input file.\n",
      "Analyzing text number 126 out of 150 rows in the input file.\n",
      "Analyzing text number 127 out of 150 rows in the input file.\n",
      "Analyzing text number 128 out of 150 rows in the input file.\n",
      "Analyzing text number 129 out of 150 rows in the input file.\n",
      "Analyzing text number 130 out of 150 rows in the input file.\n",
      "Analyzing text number 131 out of 150 rows in the input file.\n",
      "Analyzing text number 132 out of 150 rows in the input file.\n",
      "Analyzing text number 133 out of 150 rows in the input file.\n",
      "Analyzing text number 134 out of 150 rows in the input file.\n",
      "Analyzing text number 135 out of 150 rows in the input file.\n",
      "Analyzing text number 136 out of 150 rows in the input file.\n",
      "Analyzing text number 137 out of 150 rows in the input file.\n",
      "Analyzing text number 138 out of 150 rows in the input file.\n",
      "Analyzing text number 139 out of 150 rows in the input file.\n",
      "Analyzing text number 140 out of 150 rows in the input file.\n",
      "Analyzing text number 141 out of 150 rows in the input file.\n",
      "Analyzing text number 142 out of 150 rows in the input file.\n",
      "Analyzing text number 143 out of 150 rows in the input file.\n",
      "Analyzing text number 144 out of 150 rows in the input file.\n",
      "Analyzing text number 145 out of 150 rows in the input file.\n",
      "Analyzing text number 146 out of 150 rows in the input file.\n",
      "Analyzing text number 147 out of 150 rows in the input file.\n",
      "Analyzing text number 148 out of 150 rows in the input file.\n",
      "Analyzing text number 149 out of 150 rows in the input file.\n",
      "Analyzing text number 150 out of 150 rows in the input file.\n",
      "----------------------------------------------------------------------------------------------------\n"
     ]
    }
   ],
   "source": [
    "# Load the Longformer model and tokenizer\n",
    "used_approach = \"Longformer\"  # setting it for later reference\n",
    "model_name = 'allenai/longformer-base-4096'\n",
    "tokenizer = LongformerTokenizer.from_pretrained(model_name)\n",
    "model = LongformerForSequenceClassification.from_pretrained(model_name)\n",
    "model.eval()\n",
    "\n",
    "# Create lists to store the results\n",
    "sentiments = []\n",
    "\n",
    "# Record the start time\n",
    "start_time = time.time()\n",
    "\n",
    "# Loop through each row in the DataFrame\n",
    "for current_row, (index, row) in enumerate(df_longformer.iterrows(), start=1):\n",
    "    text = row['Cleaned_Text']\n",
    "\n",
    "    # Pre-process the text\n",
    "    inputs = tokenizer(text, return_tensors='pt', truncation=True, padding=True)\n",
    "\n",
    "    # Perform sentiment analysis\n",
    "    with torch.no_grad():\n",
    "        outputs = model(**inputs)\n",
    "        logits = outputs.logits\n",
    "        probabilities = torch.softmax(logits, dim=1)  # Use torch.softmax\n",
    "\n",
    "    # Extract the predicted sentiment label\n",
    "    predicted_label = torch.argmax(probabilities).item()\n",
    "    sentiment_labels = [\"Negative\", \"Neutral\", \"Positive\"]  # Customize as needed\n",
    "    predicted_sentiment = sentiment_labels[predicted_label]\n",
    "\n",
    "    # Append the result to the 'sentiments' list\n",
    "    sentiments.append(predicted_sentiment)\n",
    "\n",
    "    # Print progress update\n",
    "    print(f\"Analyzing text number {current_row} out of {total_rows} rows in the input file.\")\n",
    "\n",
    "# Add the sentiments as a new column to the DataFrame\n",
    "df_longformer['Longformer_Sentiment'] = sentiments\n",
    "\n",
    "# Calculate the elapsed time\n",
    "end_time = time.time()\n",
    "elapsed_time = end_time - start_time\n",
    "\n",
    "print(\"-\" * 100)"
   ],
   "metadata": {
    "collapsed": false
   }
  },
  {
   "cell_type": "code",
   "execution_count": 26,
   "outputs": [
    {
     "name": "stdout",
     "output_type": "stream",
     "text": [
      "The used approach was Longformer.\n",
      "Elapsed time: 0 hours, 15 mins, and 7 secs.\n"
     ]
    }
   ],
   "source": [
    "# Calculate hours, minutes, and seconds from the elapsed time\n",
    "hours = int(elapsed_time // 3600)\n",
    "minutes = int((elapsed_time % 3600) // 60)\n",
    "seconds = int(elapsed_time % 60)\n",
    "\n",
    "# Format the elapsed time string\n",
    "elapsed_time_str = f\"{hours} hours, {minutes} mins, and {seconds} secs\"\n",
    "\n",
    "# End information about the run\n",
    "print(f\"The used approach was {used_approach}.\")\n",
    "print(f\"Elapsed time: {elapsed_time_str}.\")"
   ],
   "metadata": {
    "collapsed": false
   }
  },
  {
   "cell_type": "code",
   "execution_count": 27,
   "outputs": [
    {
     "name": "stdout",
     "output_type": "stream",
     "text": [
      "Results saved as data/sentiment_results\\sentiment_results_Longformer.csv and data/sentiment_results\\sentiment_results_Longformer.xlsx.\n"
     ]
    }
   ],
   "source": [
    "# Saving the output in two file formats in dedicated files for only this current approach in the correct repository folder\n",
    "\n",
    "# Save the results to an Excel file\n",
    "excel_output_file_Longformer = os.path.join(output_folder, 'sentiment_results_Longformer.xlsx')\n",
    "df_longformer.to_excel(excel_output_file_Longformer, index=False)\n",
    "\n",
    "# Save the results to a csv file with the same name\n",
    "csv_output_file_Longformer = os.path.join(output_folder, 'sentiment_results_Longformer.csv')\n",
    "df_longformer.to_csv(csv_output_file_Longformer, index=False, encoding='utf-8', quoting=csv.QUOTE_ALL)\n",
    "\n",
    "# Print final info\n",
    "print(f\"Results saved as {csv_output_file_Longformer} and {excel_output_file_Longformer}.\")"
   ],
   "metadata": {
    "collapsed": false
   }
  },
  {
   "cell_type": "markdown",
   "source": [
    "#### Explorative Analysis of BERT-Longform"
   ],
   "metadata": {
    "collapsed": false
   }
  },
  {
   "cell_type": "code",
   "execution_count": 28,
   "outputs": [
    {
     "data": {
      "text/plain": "<Figure size 800x600 with 1 Axes>",
      "image/png": "[encoded data removed]"
     },
     "metadata": {},
     "output_type": "display_data"
    }
   ],
   "source": [
    "# Count the occurrences of each sentiment label\n",
    "sentiment_counts = df_longformer['Longformer_Sentiment'].value_counts()\n",
    "\n",
    "# Define the order of sentiment categories\n",
    "sentiment_order = ['Positive', 'Neutral', 'Negative']\n",
    "\n",
    "# Define colors for the sentiment categories\n",
    "colors = {'Positive': 'green', 'Neutral': 'gray', 'Negative': 'red'}\n",
    "\n",
    "# Create a bar plot (histogram) for sentiment distribution with correct colors and order\n",
    "plt.figure(figsize=(8, 6))\n",
    "sns.set_palette([colors[s] for s in sentiment_order])\n",
    "sns.barplot(x=sentiment_counts.index, y=sentiment_counts.values, order=sentiment_order)\n",
    "plt.title('Sentiment Distribution - BERT-Longform')\n",
    "plt.xlabel('Sentiment Label')\n",
    "plt.ylabel('Count of Sentiment')\n",
    "\n",
    "plt.show()"
   ],
   "metadata": {
    "collapsed": false
   }
  },
  {
   "cell_type": "markdown",
   "source": [
    "## Merge Results"
   ],
   "metadata": {
    "collapsed": false
   }
  },
  {
   "cell_type": "code",
   "execution_count": 29,
   "outputs": [
    {
     "name": "stdout",
     "output_type": "stream",
     "text": [
      "Combined sentiment results saved to Excel and CSV files.\n"
     ]
    }
   ],
   "source": [
    "# Define a dictionary to store DataFrames for different approaches\n",
    "df_dict = {}\n",
    "\n",
    "# Load DataFrames for each approach\n",
    "approaches = ['textblob', 'nltk', 'bert_large', 'roberta', 'longformer']\n",
    "\n",
    "for approach in approaches:\n",
    "    file_path = f'data/sentiment_results/sentiment_results_{approach}.csv'\n",
    "    df_dict[approach] = pd.read_csv(file_path)\n",
    "\n",
    "# Initialize merged DataFrame with the first approach (TextBlob)\n",
    "merged_df = df_dict['textblob']\n",
    "\n",
    "# Loop through the approaches and merge their DataFrames\n",
    "for approach in approaches[1:]:\n",
    "    # Merge based on common columns (adjust as needed)\n",
    "    merged_df = merged_df.merge(df_dict[approach], on=['Row_Number'], how='inner', suffixes=('', f'_{approach}'))\n",
    "\n",
    "# After merging the DataFrames, move 'Row_Number' to the first column\n",
    "merged_df.insert(0, 'Row_Number', merged_df.pop('Row_Number'))\n",
    "# Now, 'Row_Number' is the first column in merged_df\n",
    "\n",
    "# Drop not needed, duplicated columns (not best way to do so though)\n",
    "columns_to_drop = ['Unternehmen_nltk','Newstyp_nltk', 'Quelle_nltk', 'Nearest_Date_nltk', 'Cleaned_Text_nltk', 'Stock_Value_nltk', 'Unternehmen_bert_large', 'Newstyp_bert_large', 'Quelle_bert_large', 'Nearest_Date_bert_large', 'Cleaned_Text_bert_large', 'Stock_Value_bert_large', 'Unternehmen_roberta','Newstyp_roberta', 'Quelle_roberta', 'Nearest_Date_roberta', 'Cleaned_Text_roberta', 'Stock_Value_roberta', 'Unternehmen_longformer','Newstyp_longformer', 'Quelle_longformer', 'Nearest_Date_longformer', 'Cleaned_Text_longformer', 'Stock_Value_longformer']  # Add all columns you want to drop to this list\n",
    "merged_df.drop(columns=columns_to_drop, inplace=True)\n",
    "\n",
    "\n",
    "# Define the folder path\n",
    "output_folder = 'data/sentiment_results/'\n",
    "\n",
    "# Save the final merged DataFrame to CSV and Excel files in the specified folder path\n",
    "merged_df.to_csv(os.path.join(output_folder, 'combined_sentiment_results.csv'), index=False)\n",
    "merged_df.to_excel(os.path.join(output_folder, 'combined_sentiment_results.xlsx'), index=False)\n",
    "\n",
    "print(\"Combined sentiment results saved to Excel and CSV files.\")"
   ],
   "metadata": {
    "collapsed": false
   }
  }
 ],
 "metadata": {
  "kernelspec": {
   "display_name": "Python 3",
   "language": "python",
   "name": "python3"
  },
  "language_info": {
   "codemirror_mode": {
    "name": "ipython",
    "version": 2
   },
   "file_extension": ".py",
   "mimetype": "text/x-python",
   "name": "python",
   "nbconvert_exporter": "python",
   "pygments_lexer": "ipython2",
   "version": "2.7.6"
  }
 },
 "nbformat": 4,
 "nbformat_minor": 0
}
