{
 "cells": [
  {
   "cell_type": "markdown",
   "source": [
    "# Sentiment Analysis\n",
    "*Jannik Labs, 2023*\n",
    "*Master \"Applied Data Science\" @ Nordakademie*\n",
    "*Modul: Text Analytics*"
   ],
   "metadata": {
    "collapsed": false
   }
  },
  {
   "cell_type": "markdown",
   "source": [
    "## Intro\n",
    "\n",
    "Different approaches/methods or respective libraries possible for mapping sentiment values to the \"cleaned_articles_v1.csv\". Each coming in with its own characteristics, weaknesses and strengths:\n",
    "\n",
    "1. **TextBlob**\n",
    "- beginner-friendly and relatively easy to set up\n",
    "- pre-trained models for sentiment analysis\n",
    "- suitable for basic sentiment analysis tasks\n",
    "- limited customization options\n",
    "\n",
    "2. **NLTK Toolkit** - in general\n",
    "- wide range of tools for text processing, including sentiment analysis\n",
    "- more flexibility for creating custom sentiment analysis models\n",
    "\n",
    "    - **VADER**-- (**V**alence **A**ware **D**ictionary and s**E**ntiment **R**easoner) (PART OF NLTK)\n",
    "    - specific for Social Media, especially for informal texts like tweets and social media posts\n",
    "    - lexicon-based and comes with a pre-trained sentiment lexicon\n",
    "    - good for real-time sentiment analysis\n",
    "\n",
    "3. **Scikit-learn**\n",
    "- can be used to build a custom sentiment analysis model using machine learning\n",
    "- allows engineering of custom features for sentiment analysis\n",
    "\n",
    "4. **Transformer Models like BERT or GPT**\n",
    "- State-of-the-Art Models: Utilizes pre-trained transformer-based models (e.g., BERT, GPT) for sentiment analysis\n",
    "- High Performance: Provides state-of-the-art performance in NLP tasks\n",
    "- requires significant computational resources and large amounts of data\n",
    "\n",
    "### Decision\n",
    "For our use case custom sentiment models with special features are rather out of scope. Neither do we mainly analyse really short texts as found on Social Media (tweets on X etc.). Therefore, in order to ensure comparisons of different tools/libraries, here we will use:\n",
    "\n",
    "- TextBlob\n",
    "- NLTK Toolkit (using VADER) (still used for a comparison)\n",
    "- BERT\n",
    "\n",
    "As ressource heaviness increases these tools will be used in this exact order."
   ],
   "metadata": {
    "collapsed": false
   }
  },
  {
   "cell_type": "markdown",
   "source": [
    "## Sentiment Analyses"
   ],
   "metadata": {
    "collapsed": false
   }
  },
  {
   "cell_type": "markdown",
   "source": [
    "### General pre-work"
   ],
   "metadata": {
    "collapsed": false
   }
  },
  {
   "cell_type": "code",
   "execution_count": 1,
   "outputs": [
    {
     "name": "stderr",
     "output_type": "stream",
     "text": [
      "[nltk_data] Downloading package vader_lexicon to\n",
      "[nltk_data]     C:\\Users\\jannik.labs\\AppData\\Roaming\\nltk_data...\n",
      "[nltk_data]   Package vader_lexicon is already up-to-date!\n"
     ]
    }
   ],
   "source": [
    "# Import necessary libraries\n",
    "\n",
    "# Overall needed\n",
    "import pandas as pd # to work with data frames\n",
    "import numpy as np\n",
    "\n",
    "# Needed for sentiment analyses and different approaches\n",
    "from textblob import TextBlob\n",
    "import nltk\n",
    "from nltk.sentiment.vader import SentimentIntensityAnalyzer\n",
    "nltk.download('vader_lexicon')\n",
    "import torch\n",
    "from transformers import BertTokenizer, BertForSequenceClassification\n",
    "from torch.nn.functional import softmax\n",
    "\n",
    "# Needed for visualisations and smaller functions such as time tracking or saving files\n",
    "import seaborn as sns\n",
    "import matplotlib.pyplot as plt\n",
    "import csv\n",
    "import os # to define a dedicated output folder\n",
    "import time # to track the run time for different approaches\n",
    "import random\n",
    "\n",
    "output_folder = 'data/sentiment_results' # refer to a new folder to store only sentiment result files\n",
    "\n",
    "# check if folder can be found, else create it\n",
    "if not os.path.exists(output_folder):\n",
    "    os.makedirs(output_folder)"
   ],
   "metadata": {
    "collapsed": false
   }
  },
  {
   "cell_type": "code",
   "execution_count": 2,
   "outputs": [],
   "source": [
    "# Load the CSV file from the data cleaning part\n",
    "\n",
    "csv_file_path = 'data/transfer/cleaned_articles_v1.csv' # define the path of the input csv file\n",
    "\n",
    "# Load the data set, with the option of defining only a subset of the data (first x rows as an example). This way we can test ALL our approaches first and see some first results. Just use parameter \"nrows=x\". Total row number of the input is around 23.500.\n",
    "df = pd.read_csv(csv_file_path, encoding='utf-8', quoting=csv.QUOTE_ALL, nrows=25) # ensuring the right encoding as in the csv file we still encounter incorrectly encoded special characters\n",
    "total_rows = len(df) #define total rows\n",
    "\n",
    "# Create separate data frame copies for the sentiment analysis approaches\n",
    "df_textblob = df.copy()       # For TextBlob approach\n",
    "df_nltk = df.copy()           # For NLTK approach\n",
    "df_bert_large = df.copy()     # for BERT approach with BERT-large\n",
    "df_bert_roberta = df.copy()   # for BERT approach with RoBERTa\n",
    "df_bert_longform = df.copy()  # for BERT approach with Longform"
   ],
   "metadata": {
    "collapsed": false
   }
  },
  {
   "cell_type": "markdown",
   "source": [
    "### 1st Approach with TextBlob"
   ],
   "metadata": {
    "collapsed": false
   }
  },
  {
   "cell_type": "code",
   "execution_count": 3,
   "outputs": [
    {
     "name": "stdout",
     "output_type": "stream",
     "text": [
      "Analyzing text number 1 out of 25 rows in the input file.\n",
      "Analyzing text number 2 out of 25 rows in the input file.\n",
      "Analyzing text number 3 out of 25 rows in the input file.\n",
      "Analyzing text number 4 out of 25 rows in the input file.\n",
      "Analyzing text number 5 out of 25 rows in the input file.\n",
      "Analyzing text number 6 out of 25 rows in the input file.\n",
      "Analyzing text number 7 out of 25 rows in the input file.\n",
      "Analyzing text number 8 out of 25 rows in the input file.\n",
      "Analyzing text number 9 out of 25 rows in the input file.\n",
      "Analyzing text number 10 out of 25 rows in the input file.\n",
      "Analyzing text number 11 out of 25 rows in the input file.\n",
      "Analyzing text number 12 out of 25 rows in the input file.\n",
      "Analyzing text number 13 out of 25 rows in the input file.\n",
      "Analyzing text number 14 out of 25 rows in the input file.\n",
      "Analyzing text number 15 out of 25 rows in the input file.\n",
      "Analyzing text number 16 out of 25 rows in the input file.\n",
      "Analyzing text number 17 out of 25 rows in the input file.\n",
      "Analyzing text number 18 out of 25 rows in the input file.\n",
      "Analyzing text number 19 out of 25 rows in the input file.\n",
      "Analyzing text number 20 out of 25 rows in the input file.\n",
      "Analyzing text number 21 out of 25 rows in the input file.\n",
      "Analyzing text number 22 out of 25 rows in the input file.\n",
      "Analyzing text number 23 out of 25 rows in the input file.\n",
      "Analyzing text number 24 out of 25 rows in the input file.\n",
      "Analyzing text number 25 out of 25 rows in the input file.\n",
      "----------------------------------------------------------------------------------------------------\n"
     ]
    }
   ],
   "source": [
    "used_approach = \"TextBlob\"  # Setting it for later reference\n",
    "\n",
    "# Initialize a counter for tracking progress\n",
    "current_row = 0\n",
    "\n",
    "# Record the start time\n",
    "start_time = time.time()\n",
    "\n",
    "# Defining function for sentiment analysis\n",
    "def analyze_sentiment(text):\n",
    "    global current_row\n",
    "    current_row += 1\n",
    "    print(f\"Analyzing text number {current_row} out of {total_rows} rows in the input file.\")\n",
    "\n",
    "    analysis = TextBlob(text)\n",
    "    sentiment_score = analysis.sentiment.polarity\n",
    "    if sentiment_score > 0:\n",
    "        sentiment_label = 'Positive'\n",
    "    elif sentiment_score == 0:\n",
    "        sentiment_label = 'Neutral'\n",
    "    else:\n",
    "        sentiment_label = 'Negative'\n",
    "\n",
    "    return sentiment_label, sentiment_score  # Return both label and score\n",
    "\n",
    "# Applying the defined sentiment analysis function\n",
    "df_textblob[['TextBlob_Sentiment_Label', 'TextBlob_Sentiment_Score']] = df_textblob['Cleaned_Text'].apply(analyze_sentiment).apply(pd.Series)\n",
    "\n",
    "# Calculate the elapsed time\n",
    "end_time = time.time()\n",
    "elapsed_time = end_time - start_time\n",
    "\n",
    "print(\"-\"*100)"
   ],
   "metadata": {
    "collapsed": false
   }
  },
  {
   "cell_type": "code",
   "execution_count": 4,
   "outputs": [
    {
     "name": "stdout",
     "output_type": "stream",
     "text": [
      "The used approach #1 was TextBlob.\n",
      "Elapsed time: 0 seconds.\n"
     ]
    }
   ],
   "source": [
    "# End information about the run\n",
    "print(f\"The used approach #1 was {used_approach}.\")\n",
    "print(f\"Elapsed time: {elapsed_time:.0f} seconds.\")"
   ],
   "metadata": {
    "collapsed": false
   }
  },
  {
   "cell_type": "code",
   "execution_count": 5,
   "outputs": [
    {
     "name": "stdout",
     "output_type": "stream",
     "text": [
      "Results saved as data/sentiment_results\\sentiment_results_textblob.csv and data/sentiment_results\\sentiment_results_textblob.xlsx.\n"
     ]
    }
   ],
   "source": [
    "# Saving the output in two file formats in dedicated files for only this current approach in the correct repository folder\n",
    "\n",
    "# Save the results to an Excel file\n",
    "excel_output_file_textblob = os.path.join(output_folder, 'sentiment_results_textblob.xlsx')\n",
    "df_textblob.to_excel(excel_output_file_textblob, index=False)\n",
    "\n",
    "# Save the results to a csv file with the same name\n",
    "csv_output_file_textblob = os.path.join(output_folder, 'sentiment_results_textblob.csv')\n",
    "df_textblob.to_csv(csv_output_file_textblob, index=False, encoding='utf-8', quoting=csv.QUOTE_ALL)\n",
    "\n",
    "# Print final info\n",
    "print(f\"Results saved as {csv_output_file_textblob} and {excel_output_file_textblob}.\")"
   ],
   "metadata": {
    "collapsed": false
   }
  },
  {
   "cell_type": "markdown",
   "source": [
    "### Explorative Analysis of TextBlob"
   ],
   "metadata": {
    "collapsed": false
   }
  },
  {
   "cell_type": "code",
   "execution_count": 6,
   "outputs": [
    {
     "name": "stdout",
     "output_type": "stream",
     "text": [
      "Statistics for TextBlob_Sentiment_Score:\n",
      "\n",
      "Average Score:\n",
      "0.0010902925357470805\n",
      "\n",
      "Minimum Score:\n",
      "-0.2\n",
      "\n",
      "Maximum Score:\n",
      "0.7\n",
      "\n",
      "Standard Deviation:\n",
      "0.19529685314620301\n",
      "\n",
      "Statistics for TextBlob_Sentiment_Label:\n",
      "Count of values:\n",
      "Negative    14\n",
      "Positive     6\n",
      "Neutral      5\n",
      "Name: TextBlob_Sentiment_Label, dtype: int64\n"
     ]
    }
   ],
   "source": [
    "# Calculate and print statistics\n",
    "\n",
    "print(\"Statistics for TextBlob_Sentiment_Score:\")\n",
    "\n",
    "print(\"\\nAverage Score:\")\n",
    "print(df_textblob['TextBlob_Sentiment_Score'].mean())\n",
    "print(\"\\nMinimum Score:\")\n",
    "print(df_textblob['TextBlob_Sentiment_Score'].min())\n",
    "print(\"\\nMaximum Score:\")\n",
    "print(df_textblob['TextBlob_Sentiment_Score'].max())\n",
    "print(\"\\nStandard Deviation:\")\n",
    "print(df_textblob['TextBlob_Sentiment_Score'].std())\n",
    "\n",
    "# statistics for 'TextBlob_Sentiment_Label'\n",
    "print(\"\\nStatistics for TextBlob_Sentiment_Label:\")\n",
    "print(\"Count of values:\")\n",
    "print(df_textblob['TextBlob_Sentiment_Label'].value_counts())"
   ],
   "metadata": {
    "collapsed": false
   }
  },
  {
   "cell_type": "code",
   "execution_count": 7,
   "outputs": [
    {
     "name": "stdout",
     "output_type": "stream",
     "text": [
      "             Unternehmen Newstyp   Quelle Nearest_Date  \\\n",
      "1        Sartorius (Vz.)    News  onvista   2021-06-04   \n",
      "5                Vonovia    News  onvista   2021-06-11   \n",
      "19        Siemens Energy    News  onvista   2021-06-23   \n",
      "6                Vonovia    News  onvista   2021-06-11   \n",
      "15                   SAP    News  onvista   2021-06-21   \n",
      "14                   SAP    News  onvista   2021-06-18   \n",
      "18               Zalando    News  onvista   2021-06-22   \n",
      "0   Heidelberg Materials    News  onvista   2021-06-02   \n",
      "22                Adidas    News  onvista   2021-06-25   \n",
      "10                   SAP    News  onvista   2021-06-15   \n",
      "\n",
      "                                         Cleaned_Text    Stock_Value  \\\n",
      "1   Sartorius Impferfolg belasten Papier Laborausr...       negative   \n",
      "5   Onvista Mahlzeit Dax unbeeindruckt Usinflation...       positive   \n",
      "19  Siemens energy Aktie versuchen Ruder herumzure...       negative   \n",
      "6   Curevac Spahn streichen Impfstoff Planung Appl...       positive   \n",
      "15  Comon Börsenpodcast Fedkurswechsel schlagen Do...        neutral   \n",
      "14  Onvista Mahlzeit Dax Bescheidener Woche Cureva...       negative   \n",
      "18  Daimler Batteriezellenproduktion planen Bayer ...        neutral   \n",
      "0   Heidelbergcement klimaneutral Zementwerk Weg B...       positive   \n",
      "22  adidas stark Nikezahlen beflügeln Konkurrenz d...  very_positive   \n",
      "10  sap Aktie Oktober Kurslücke schließen Software...  very_negative   \n",
      "\n",
      "   TextBlob_Sentiment_Label  TextBlob_Sentiment_Score  \n",
      "1                  Positive                  0.066667  \n",
      "5                  Positive                  0.333333  \n",
      "19                 Positive                  0.700000  \n",
      "6                  Positive                  0.067218  \n",
      "15                 Positive                  0.333333  \n",
      "14                 Negative                 -0.100000  \n",
      "18                 Negative                 -0.075000  \n",
      "0                  Negative                 -0.087500  \n",
      "22                 Negative                 -0.028571  \n",
      "10                 Negative                 -0.200000  \n"
     ]
    }
   ],
   "source": [
    "# Check some results of TextBlob including all columns\n",
    "\n",
    "# Randomly sample 5 positive entries\n",
    "positive_entries = df_textblob[df_textblob['TextBlob_Sentiment_Score'] > 0].sample(5, random_state=42)\n",
    "\n",
    "# Randomly sample 5 negative entries\n",
    "negative_entries = df_textblob[df_textblob['TextBlob_Sentiment_Score'] < 0].sample(5, random_state=42)\n",
    "\n",
    "# Concatenate the positive and negative entries along with all columns\n",
    "sampled_entries = pd.concat([positive_entries, negative_entries])\n",
    "\n",
    "# Display all columns for the sampled entries\n",
    "print(sampled_entries)"
   ],
   "metadata": {
    "collapsed": false
   }
  },
  {
   "cell_type": "code",
   "execution_count": 8,
   "outputs": [
    {
     "data": {
      "text/plain": "<Figure size 800x600 with 1 Axes>",
      "image/png": "[encoded data removed]"
     },
     "metadata": {},
     "output_type": "display_data"
    }
   ],
   "source": [
    "# Create a histogram for sentiment scores in df_textblob\n",
    "plt.figure(figsize=(8, 6))\n",
    "sns.histplot(df_textblob['TextBlob_Sentiment_Score'], bins=20, color='skyblue', edgecolor='black')\n",
    "plt.title('Distribution of TextBlob Sentiment Scores')\n",
    "plt.xlabel('Sentiment Score')\n",
    "plt.ylabel('Frequency')\n",
    "plt.grid(axis='y', linestyle='--', alpha=0.7)\n",
    "\n",
    "plt.show()"
   ],
   "metadata": {
    "collapsed": false
   }
  },
  {
   "cell_type": "code",
   "execution_count": 9,
   "outputs": [
    {
     "data": {
      "text/plain": "<Figure size 800x600 with 1 Axes>",
      "image/png": "[encoded data removed]"
     },
     "metadata": {},
     "output_type": "display_data"
    }
   ],
   "source": [
    "# Plot regarding the labels\n",
    "\n",
    "# Count the occurrences of each sentiment label\n",
    "sentiment_counts = df_textblob['TextBlob_Sentiment_Label'].value_counts()\n",
    "\n",
    "# Define the order of sentiment categories\n",
    "sentiment_order = ['Positive', 'Neutral', 'Negative']\n",
    "\n",
    "# Define colors for the sentiment categories\n",
    "colors = {'Positive': 'green', 'Neutral': 'gray', 'Negative': 'red'}\n",
    "\n",
    "# Create a bar plot (histogram) for sentiment distribution with correct colors and order\n",
    "plt.figure(figsize=(8, 6))\n",
    "sns.set_palette([colors[s] for s in sentiment_order])\n",
    "ax = sns.barplot(x=sentiment_counts.index, y=sentiment_counts.values, order=sentiment_order)\n",
    "plt.title('Sentiment Distribution - TextBlob')\n",
    "plt.xlabel('Sentiment Label - categorised with thresholds')\n",
    "plt.ylabel('Count of Sentiment')\n",
    "\n",
    "# Add labels with integer values of counts to the bars\n",
    "for p in ax.patches:\n",
    "    ax.annotate(f'{int(p.get_height())}', (p.get_x() + p.get_width() / 2., p.get_height()), ha='center', va='center', fontsize=12, color='black', xytext=(0, 5), textcoords='offset points')\n",
    "\n",
    "plt.show()"
   ],
   "metadata": {
    "collapsed": false
   }
  },
  {
   "cell_type": "markdown",
   "source": [
    "### 2nd Approach with NLTK (VADER)"
   ],
   "metadata": {
    "collapsed": false
   }
  },
  {
   "cell_type": "code",
   "execution_count": 10,
   "outputs": [],
   "source": [
    "used_approach = \"NLTK_VADER\" #setting it for later reference\n",
    "\n",
    "# Initialize the SentimentIntensityAnalyzer\n",
    "sia = SentimentIntensityAnalyzer()\n",
    "\n",
    "# Apply sentiment analysis and store the compound score in a new column\n",
    "df_nltk['NLTK_Sentiment'] = df_nltk['Cleaned_Text'].apply(lambda text: sia.polarity_scores(text)['compound'])"
   ],
   "metadata": {
    "collapsed": false
   }
  },
  {
   "cell_type": "code",
   "execution_count": 11,
   "outputs": [
    {
     "name": "stdout",
     "output_type": "stream",
     "text": [
      "Text number 1 out of all 25 rows in the input file: Sentiment score = -0.4588.\n",
      "Text number 2 out of all 25 rows in the input file: Sentiment score = 0.2023.\n",
      "Text number 3 out of all 25 rows in the input file: Sentiment score = 0.0.\n",
      "Text number 4 out of all 25 rows in the input file: Sentiment score = 0.4019.\n",
      "Text number 5 out of all 25 rows in the input file: Sentiment score = -0.0516.\n",
      "Text number 6 out of all 25 rows in the input file: Sentiment score = 0.6249.\n",
      "Text number 7 out of all 25 rows in the input file: Sentiment score = 0.872.\n",
      "Text number 8 out of all 25 rows in the input file: Sentiment score = 0.4588.\n",
      "Text number 9 out of all 25 rows in the input file: Sentiment score = 0.4215.\n",
      "Text number 10 out of all 25 rows in the input file: Sentiment score = 0.0.\n",
      "Text number 11 out of all 25 rows in the input file: Sentiment score = 0.0.\n",
      "Text number 12 out of all 25 rows in the input file: Sentiment score = -0.4019.\n",
      "Text number 13 out of all 25 rows in the input file: Sentiment score = 0.9186.\n",
      "Text number 14 out of all 25 rows in the input file: Sentiment score = 0.0516.\n",
      "Text number 15 out of all 25 rows in the input file: Sentiment score = 0.0516.\n",
      "Text number 16 out of all 25 rows in the input file: Sentiment score = 0.891.\n",
      "Text number 17 out of all 25 rows in the input file: Sentiment score = -0.7579.\n",
      "Text number 18 out of all 25 rows in the input file: Sentiment score = 0.0.\n",
      "Text number 19 out of all 25 rows in the input file: Sentiment score = -0.6597.\n",
      "Text number 20 out of all 25 rows in the input file: Sentiment score = 0.5423.\n",
      "Text number 21 out of all 25 rows in the input file: Sentiment score = 0.1779.\n",
      "Text number 22 out of all 25 rows in the input file: Sentiment score = 0.3818.\n",
      "Text number 23 out of all 25 rows in the input file: Sentiment score = -0.4404.\n",
      "Text number 24 out of all 25 rows in the input file: Sentiment score = -0.3612.\n",
      "Text number 25 out of all 25 rows in the input file: Sentiment score = 0.0.\n",
      "----------------------------------------------------------------------------------------------------\n"
     ]
    }
   ],
   "source": [
    "# Apply sentiment analysis and store the compound score in a new column\n",
    "\n",
    "# Record the start time\n",
    "start_time = time.time()\n",
    "\n",
    "for i, row in enumerate(df_nltk.index):\n",
    "    text = df_nltk.at[row, 'Cleaned_Text']\n",
    "    sentiment_score = sia.polarity_scores(text)['compound']\n",
    "    df_nltk.at[row, 'NLTK_Sentiment'] = sentiment_score\n",
    "\n",
    "    # Print progress message\n",
    "    print(f\"Text number {i + 1} out of all {total_rows} rows in the input file: Sentiment score = {sentiment_score}.\")\n",
    "\n",
    "# Calculate the elapsed time\n",
    "end_time = time.time()\n",
    "elapsed_time = end_time - start_time\n",
    "\n",
    "print(\"-\"*100)"
   ],
   "metadata": {
    "collapsed": false
   }
  },
  {
   "cell_type": "code",
   "execution_count": 12,
   "outputs": [
    {
     "name": "stdout",
     "output_type": "stream",
     "text": [
      "The used approach #2 was NLTK_VADER.\n",
      "Elapsed time: 0 seconds.\n"
     ]
    }
   ],
   "source": [
    "# End information about the run\n",
    "print(f\"The used approach #2 was {used_approach}.\")\n",
    "print(f\"Elapsed time: {elapsed_time:.0f} seconds.\")"
   ],
   "metadata": {
    "collapsed": false
   }
  },
  {
   "cell_type": "code",
   "execution_count": 13,
   "outputs": [
    {
     "name": "stdout",
     "output_type": "stream",
     "text": [
      "Results saved as data/sentiment_results\\sentiment_results_nltk.csv and data/sentiment_results\\sentiment_results_nltk.xlsx.\n"
     ]
    }
   ],
   "source": [
    "# Saving the output in two file formats in dedicated files for only this current approach in the correct repository folder\n",
    "\n",
    "# Save the results to an Excel file\n",
    "excel_output_file_nltk = os.path.join(output_folder, 'sentiment_results_nltk.xlsx')\n",
    "df_nltk.to_excel(excel_output_file_nltk, index=False)\n",
    "\n",
    "# Save the results to a csv file with the same name\n",
    "csv_output_file_nltk = os.path.join(output_folder, 'sentiment_results_nltk.csv')\n",
    "df_nltk.to_csv(csv_output_file_nltk, index=False, encoding='utf-8', quoting=csv.QUOTE_ALL)\n",
    "\n",
    "# Print final info\n",
    "print(f\"Results saved as {csv_output_file_nltk} and {excel_output_file_nltk}.\")"
   ],
   "metadata": {
    "collapsed": false
   }
  },
  {
   "cell_type": "markdown",
   "source": [
    "### Explorative Analysis of NLTK (VADER)"
   ],
   "metadata": {
    "collapsed": false
   }
  },
  {
   "cell_type": "code",
   "execution_count": 14,
   "outputs": [
    {
     "name": "stdout",
     "output_type": "stream",
     "text": [
      "Statistics for NLTK Sentiment Score:\n",
      "\n",
      "Average Score:\n",
      "0.11458800000000002\n",
      "\n",
      "Minimum Score:\n",
      "-0.7579\n",
      "\n",
      "Maximum Score:\n",
      "0.9186\n",
      "\n",
      "Standard Deviation:\n",
      "0.467105050925378\n"
     ]
    }
   ],
   "source": [
    "# Calculate and print statistics for 'NLTK_Sentiment_Score' in df_nltk\n",
    "print(\"Statistics for NLTK Sentiment Score:\")\n",
    "\n",
    "# Average Score\n",
    "print(\"\\nAverage Score:\")\n",
    "print(df_nltk['NLTK_Sentiment'].mean())\n",
    "\n",
    "# Minimum Score\n",
    "print(\"\\nMinimum Score:\")\n",
    "print(df_nltk['NLTK_Sentiment'].min())\n",
    "\n",
    "# Maximum Score\n",
    "print(\"\\nMaximum Score:\")\n",
    "print(df_nltk['NLTK_Sentiment'].max())\n",
    "\n",
    "# Standard Deviation\n",
    "print(\"\\nStandard Deviation:\")\n",
    "print(df_nltk['NLTK_Sentiment'].std())"
   ],
   "metadata": {
    "collapsed": false
   }
  },
  {
   "cell_type": "code",
   "execution_count": 15,
   "outputs": [
    {
     "name": "stdout",
     "output_type": "stream",
     "text": [
      "             Unternehmen Newstyp   Quelle Nearest_Date  \\\n",
      "12                   SAP    News  onvista   2021-06-16   \n",
      "15                   SAP    News  onvista   2021-06-21   \n",
      "6                Vonovia    News  onvista   2021-06-11   \n",
      "5                Vonovia    News  onvista   2021-06-11   \n",
      "19        Siemens Energy    News  onvista   2021-06-23   \n",
      "11                   SAP    News  onvista   2021-06-17   \n",
      "22                Adidas    News  onvista   2021-06-25   \n",
      "0   Heidelberg Materials    News  onvista   2021-06-02   \n",
      "18               Zalando    News  onvista   2021-06-22   \n",
      "16              Covestro    News  onvista   2021-06-23   \n",
      "14                   SAP    News  onvista   2021-06-18   \n",
      "13                   SAP    News  onvista   2021-06-16   \n",
      "17              Covestro    News  onvista   2021-06-22   \n",
      "24                Adidas    News  onvista   2021-06-25   \n",
      "10                   SAP    News  onvista   2021-06-15   \n",
      "\n",
      "                                         Cleaned_Text    Stock_Value  \\\n",
      "12  deutsch Bank Investmentbanking Vogel abschieße...        neutral   \n",
      "15  Comon Börsenpodcast Fedkurswechsel schlagen Do...        neutral   \n",
      "6   Curevac Spahn streichen Impfstoff Planung Appl...       positive   \n",
      "5   Onvista Mahlzeit Dax unbeeindruckt Usinflation...       positive   \n",
      "19  Siemens energy Aktie versuchen Ruder herumzure...       negative   \n",
      "11  Dax halten Füße still Automobilsektor leiden a...        neutral   \n",
      "22  adidas stark Nikezahlen beflügeln Konkurrenz d...  very_positive   \n",
      "0   Heidelbergcement klimaneutral Zementwerk Weg B...       positive   \n",
      "18  Daimler Batteriezellenproduktion planen Bayer ...        neutral   \n",
      "16  Dax zeigen stabil Covestro Aufwind Varta eupho...  very_negative   \n",
      "14  Onvista Mahlzeit Dax Bescheidener Woche Cureva...       negative   \n",
      "13  Onvista Mahlzeit Dax Fedentscheid Minus Jinkos...        neutral   \n",
      "17  Covestro Aktie Kehrtwende positiv Analystensti...  very_positive   \n",
      "24  Dax Leitindex retten plus Wochenende Adidas sp...  very_positive   \n",
      "10  sap Aktie Oktober Kurslücke schließen Software...  very_negative   \n",
      "\n",
      "    NLTK_Sentiment  \n",
      "12          0.9186  \n",
      "15          0.8910  \n",
      "6           0.8720  \n",
      "5           0.6249  \n",
      "19          0.5423  \n",
      "11         -0.4019  \n",
      "22         -0.4404  \n",
      "0          -0.4588  \n",
      "18         -0.6597  \n",
      "16         -0.7579  \n",
      "14          0.0516  \n",
      "13          0.0516  \n",
      "17          0.0000  \n",
      "24          0.0000  \n",
      "10          0.0000  \n"
     ]
    }
   ],
   "source": [
    "# Check some results of NLTK (VADER)\n",
    "\n",
    "# Sort the DataFrame by sentiment scores (positive to negative)\n",
    "df_nltk_sorted = df_nltk.sort_values(by='NLTK_Sentiment', ascending=False)\n",
    "\n",
    "# Select the 5 most positive entries\n",
    "most_positive_entries = df_nltk_sorted.head(5)\n",
    "\n",
    "# Select the 5 most negative entries\n",
    "most_negative_entries = df_nltk_sorted.tail(5)\n",
    "\n",
    "# Select 5 entries with exactly neutral scores (around 0)\n",
    "neutral_entries = df_nltk_sorted[(df_nltk_sorted['NLTK_Sentiment'] >= -0.1) & (df_nltk_sorted['NLTK_Sentiment'] <= 0.1)].head(5)\n",
    "\n",
    "# Concatenate the selected entries\n",
    "selected_entries = pd.concat([most_positive_entries, most_negative_entries, neutral_entries])\n",
    "\n",
    "# Display all columns for the selected entries\n",
    "print(selected_entries)"
   ],
   "metadata": {
    "collapsed": false
   }
  },
  {
   "cell_type": "code",
   "execution_count": 16,
   "outputs": [
    {
     "data": {
      "text/plain": "<Figure size 800x600 with 1 Axes>",
      "image/png": "[encoded data removed]"
     },
     "metadata": {},
     "output_type": "display_data"
    }
   ],
   "source": [
    "# Create a histogram to visualize the distribution of sentiment scores\n",
    "plt.figure(figsize=(8, 6))\n",
    "plt.hist(df_nltk['NLTK_Sentiment'], bins=20, color='skyblue', edgecolor='black')\n",
    "plt.title('Distribution of NLTK VADER Sentiment Scores')\n",
    "plt.xlabel('Sentiment Score')\n",
    "plt.ylabel('Frequency')\n",
    "plt.grid(axis='y', linestyle='--', alpha=0.7)\n",
    "plt.show()"
   ],
   "metadata": {
    "collapsed": false
   }
  },
  {
   "cell_type": "markdown",
   "source": [
    "### 3rd Approach with BERT"
   ],
   "metadata": {
    "collapsed": false
   }
  },
  {
   "cell_type": "markdown",
   "source": [
    "#### Short intro\n",
    "**B**idirectional **E**ncoder **R**epresentations from **T**ransformers (**BERT**) is a family of language models introduced in 2018 by researchers at Google.\n",
    "BERT is an \"encoder-only\" transformer architecture.\n",
    "\n",
    "On a high level, BERT consists of three modules:\n",
    "\n",
    "- **embedding**. This module converts an array of one-hot encoded tokens into an array of vectors representing the tokens.\n",
    "- a **stack of encoders**. These encoders are the Transformer encoders. They perform transformations over the array of representation vectors.\n",
    "- **un-embedding**. This module converts the final representation vectors into one-hot encoded tokens again.\n",
    "\n",
    "There are different BERT models available out there.\n",
    "\n",
    "**BERT-Large (e.g., bert-large-uncased):**\n",
    "- one of the largest versions of BERT, with more parameters, making it capable of handling longer text\n",
    "- high accuracy; can capture detailed context\n",
    "- requires substantial computational resources and may be slower to run\n",
    "\n",
    "**RoBERTa (e.g., roberta-large):**\n",
    "- similar to BERT, but fine-tuned for better performance\n",
    "- has been optimized for efficiency, can handle longer text as well\n",
    "- often performs at par with BERT-Large but with lower computational requirements\n",
    "\n",
    "**Longformer (e.g., allenai/longformer-large-4096):**\n",
    "- designed specifically for handling long documents and sequences\n",
    "- well-suited for tasks involving lengthy text, like news articles\n",
    "- significantly extends the maximum token limit (e.g., up to 4096 tokens) compared to traditional BERT models\n",
    "\n",
    "**Electra (e.g., google/electra-large-discriminator):**\n",
    "- efficient and performs well on various NLP tasks\n",
    "- not explicitly designed for long text, but it can still be used for document-level sentiment analysis effectively\n",
    "\n",
    "**DistilBERT (e.g., distilbert-base-uncased):**\n",
    "- smaller and more efficient version of BERT.\n",
    "- may have limitations in handling very long texts due to its reduced model size\n",
    "\n",
    "#### Result\n",
    "BERT-Large might be used if resources can handle it. If not, RoBERTa will receive a try.\n",
    "First try however, due to it being suited for news texts is Longformer.\n",
    "Electra and DistilBERT don't appear to be good choices."
   ],
   "metadata": {
    "collapsed": false
   }
  },
  {
   "cell_type": "markdown",
   "source": [
    "#### Using BERT-Large"
   ],
   "metadata": {
    "collapsed": false
   }
  },
  {
   "cell_type": "code",
   "execution_count": 17,
   "outputs": [
    {
     "name": "stderr",
     "output_type": "stream",
     "text": [
      "Some weights of BertForSequenceClassification were not initialized from the model checkpoint at bert-large-uncased and are newly initialized: ['classifier.weight', 'classifier.bias']\n",
      "You should probably TRAIN this model on a down-stream task to be able to use it for predictions and inference.\n"
     ]
    },
    {
     "name": "stdout",
     "output_type": "stream",
     "text": [
      "Analyzing text number 1 out of 25 rows in the input file.\n",
      "Analyzing text number 2 out of 25 rows in the input file.\n",
      "Analyzing text number 3 out of 25 rows in the input file.\n",
      "Analyzing text number 4 out of 25 rows in the input file.\n",
      "Analyzing text number 5 out of 25 rows in the input file.\n",
      "Analyzing text number 6 out of 25 rows in the input file.\n",
      "Analyzing text number 7 out of 25 rows in the input file.\n",
      "Analyzing text number 8 out of 25 rows in the input file.\n",
      "Analyzing text number 9 out of 25 rows in the input file.\n",
      "Analyzing text number 10 out of 25 rows in the input file.\n",
      "Analyzing text number 11 out of 25 rows in the input file.\n",
      "Analyzing text number 12 out of 25 rows in the input file.\n",
      "Analyzing text number 13 out of 25 rows in the input file.\n",
      "Analyzing text number 14 out of 25 rows in the input file.\n",
      "Analyzing text number 15 out of 25 rows in the input file.\n",
      "Analyzing text number 16 out of 25 rows in the input file.\n",
      "Analyzing text number 17 out of 25 rows in the input file.\n",
      "Analyzing text number 18 out of 25 rows in the input file.\n",
      "Analyzing text number 19 out of 25 rows in the input file.\n",
      "Analyzing text number 20 out of 25 rows in the input file.\n",
      "Analyzing text number 21 out of 25 rows in the input file.\n",
      "Analyzing text number 22 out of 25 rows in the input file.\n",
      "Analyzing text number 23 out of 25 rows in the input file.\n",
      "Analyzing text number 24 out of 25 rows in the input file.\n",
      "Analyzing text number 25 out of 25 rows in the input file.\n",
      "----------------------------------------------------------------------------------------------------\n",
      "             Unternehmen Newstyp   Quelle Nearest_Date  \\\n",
      "0   Heidelberg Materials    News  onvista   2021-06-02   \n",
      "1        Sartorius (Vz.)    News  onvista   2021-06-04   \n",
      "2        Sartorius (Vz.)    News  onvista   2021-06-08   \n",
      "3               Covestro    News  onvista   2021-06-09   \n",
      "4               Covestro    News  onvista   2021-06-09   \n",
      "5                Vonovia    News  onvista   2021-06-11   \n",
      "6                Vonovia    News  onvista   2021-06-11   \n",
      "7        Sartorius (Vz.)    News  onvista   2021-06-11   \n",
      "8                    SAP    News  onvista   2021-06-14   \n",
      "9                    SAP    News  onvista   2021-06-16   \n",
      "10                   SAP    News  onvista   2021-06-15   \n",
      "11                   SAP    News  onvista   2021-06-17   \n",
      "12                   SAP    News  onvista   2021-06-16   \n",
      "13                   SAP    News  onvista   2021-06-16   \n",
      "14                   SAP    News  onvista   2021-06-18   \n",
      "15                   SAP    News  onvista   2021-06-21   \n",
      "16              Covestro    News  onvista   2021-06-23   \n",
      "17              Covestro    News  onvista   2021-06-22   \n",
      "18               Zalando    News  onvista   2021-06-22   \n",
      "19        Siemens Energy    News  onvista   2021-06-23   \n",
      "20               Vonovia    News  onvista   2021-06-23   \n",
      "21                   SAP    News  onvista   2021-06-24   \n",
      "22                Adidas    News  onvista   2021-06-25   \n",
      "23                Adidas    News  onvista   2021-06-25   \n",
      "24                Adidas    News  onvista   2021-06-25   \n",
      "\n",
      "                                         Cleaned_Text    Stock_Value  \\\n",
      "0   Heidelbergcement klimaneutral Zementwerk Weg B...       positive   \n",
      "1   Sartorius Impferfolg belasten Papier Laborausr...       negative   \n",
      "2   Sartorius Aktie springen 200tagetrendlinie Bio...  very_positive   \n",
      "3   Covestro Aktie fallen Chartunterstützung gewin...  very_negative   \n",
      "4   Onvista Mahlzeit Memeaktie Gegensatz Dax Rand ...  very_negative   \n",
      "5   Onvista Mahlzeit Dax unbeeindruckt Usinflation...       positive   \n",
      "6   Curevac Spahn streichen Impfstoff Planung Appl...       positive   \n",
      "7   Frage Bernecker Ferrari neu Chef Digitaluntern...       positive   \n",
      "8   Teamviewer Partnerschaft Sap ankündigen Aktie ...  very_positive   \n",
      "9   sap Finanzvorstand warnen mal Wechselkurs bela...        neutral   \n",
      "10  sap Aktie Oktober Kurslücke schließen Software...  very_negative   \n",
      "11  Dax halten Füße still Automobilsektor leiden a...        neutral   \n",
      "12  deutsch Bank Investmentbanking Vogel abschieße...        neutral   \n",
      "13  Onvista Mahlzeit Dax Fedentscheid Minus Jinkos...        neutral   \n",
      "14  Onvista Mahlzeit Dax Bescheidener Woche Cureva...       negative   \n",
      "15  Comon Börsenpodcast Fedkurswechsel schlagen Do...        neutral   \n",
      "16  Dax zeigen stabil Covestro Aufwind Varta eupho...  very_negative   \n",
      "17  Covestro Aktie Kehrtwende positiv Analystensti...  very_positive   \n",
      "18  Daimler Batteriezellenproduktion planen Bayer ...        neutral   \n",
      "19  Siemens energy Aktie versuchen Ruder herumzure...       negative   \n",
      "20  Microsoft Softwaregigant Knackt Marktkapitalis...       positive   \n",
      "21  deutsch Bank Sap Google packen Oracle itsystem...  very_positive   \n",
      "22  adidas stark Nikezahlen beflügeln Konkurrenz d...  very_positive   \n",
      "23  glänzend Zahl Nike treiben Aktienkurs Erwartun...  very_positive   \n",
      "24  Dax Leitindex retten plus Wochenende Adidas sp...  very_positive   \n",
      "\n",
      "   Predicted_Sentiment  \n",
      "0              Neutral  \n",
      "1              Neutral  \n",
      "2              Neutral  \n",
      "3              Neutral  \n",
      "4              Neutral  \n",
      "5              Neutral  \n",
      "6              Neutral  \n",
      "7              Neutral  \n",
      "8              Neutral  \n",
      "9              Neutral  \n",
      "10             Neutral  \n",
      "11             Neutral  \n",
      "12             Neutral  \n",
      "13             Neutral  \n",
      "14             Neutral  \n",
      "15             Neutral  \n",
      "16             Neutral  \n",
      "17             Neutral  \n",
      "18             Neutral  \n",
      "19             Neutral  \n",
      "20             Neutral  \n",
      "21             Neutral  \n",
      "22             Neutral  \n",
      "23             Neutral  \n",
      "24             Neutral  \n"
     ]
    }
   ],
   "source": [
    "# Load the BERT-Large model and tokenizer\n",
    "used_approach = \"BERT-Large\" #setting it for later reference\n",
    "\n",
    "model_name = 'bert-large-uncased'\n",
    "tokenizer = BertTokenizer.from_pretrained(model_name)\n",
    "model = BertForSequenceClassification.from_pretrained(model_name)\n",
    "model.eval()\n",
    "\n",
    "# Create a list to store the results\n",
    "sentiments = []\n",
    "\n",
    "# Record the start time\n",
    "start_time = time.time()\n",
    "\n",
    "# Loop through each row in the DataFrame\n",
    "for current_row, (index, row) in enumerate(df_bert_large.iterrows(), start=1):\n",
    "    text = row['Cleaned_Text']\n",
    "\n",
    "    # Pre-process the text\n",
    "    inputs = tokenizer(text, return_tensors='pt', truncation=True, padding=True)\n",
    "\n",
    "    # Perform sentiment analysis\n",
    "    with torch.no_grad():\n",
    "        outputs = model(**inputs)\n",
    "        logits = outputs.logits\n",
    "        probabilities = softmax(logits, dim=1)\n",
    "\n",
    "    # Extract the predicted sentiment label\n",
    "    predicted_label = torch.argmax(probabilities).item()\n",
    "    sentiment_labels = [\"Negative\", \"Neutral\", \"Positive\"]  # Customize as needed\n",
    "    predicted_sentiment = sentiment_labels[predicted_label]\n",
    "\n",
    "    # Append the result to the list\n",
    "    sentiments.append(predicted_sentiment)\n",
    "\n",
    "    # Print progress update\n",
    "    print(f\"Analyzing text number {current_row} out of {total_rows} rows in the input file.\")\n",
    "\n",
    "# Add the sentiments as a new column to the DataFrame\n",
    "df_bert_large['Predicted_Sentiment'] = sentiments\n",
    "\n",
    "# Calculate the elapsed time\n",
    "end_time = time.time()\n",
    "elapsed_time = end_time - start_time\n",
    "\n",
    "print(\"-\"*100)\n",
    "\n",
    "# Print the DataFrame with the added sentiment column\n",
    "print(df_bert_large)"
   ],
   "metadata": {
    "collapsed": false
   }
  },
  {
   "cell_type": "code",
   "execution_count": 18,
   "outputs": [
    {
     "name": "stdout",
     "output_type": "stream",
     "text": [
      "The used approach #1 was BERT-Large.\n",
      "Elapsed time: 70 seconds.\n"
     ]
    }
   ],
   "source": [
    "# End information about the run\n",
    "print(f\"The used approach #1 was {used_approach}.\")\n",
    "print(f\"Elapsed time: {elapsed_time:.0f} seconds.\")"
   ],
   "metadata": {
    "collapsed": false
   }
  },
  {
   "cell_type": "code",
   "execution_count": 19,
   "outputs": [
    {
     "name": "stdout",
     "output_type": "stream",
     "text": [
      "Results saved as data/sentiment_results\\sentiment_results_BERT_large.csv and data/sentiment_results\\sentiment_results_BERT_large.xlsx.\n"
     ]
    }
   ],
   "source": [
    "# Saving the output in two file formats in dedicated files for only this current approach in the correct repository folder\n",
    "\n",
    "# Save the results to an Excel file\n",
    "excel_output_file_BERT_large = os.path.join(output_folder, 'sentiment_results_BERT_large.xlsx')\n",
    "df_bert_large.to_excel(excel_output_file_BERT_large, index=False)\n",
    "\n",
    "# Save the results to a csv file with the same name\n",
    "csv_output_file_BERT_large = os.path.join(output_folder, 'sentiment_results_BERT_large.csv')\n",
    "df_bert_large.to_csv(csv_output_file_BERT_large, index=False, encoding='utf-8', quoting=csv.QUOTE_ALL)\n",
    "\n",
    "# Print final info\n",
    "print(f\"Results saved as {csv_output_file_BERT_large} and {excel_output_file_BERT_large}.\")"
   ],
   "metadata": {
    "collapsed": false
   }
  },
  {
   "cell_type": "markdown",
   "source": [
    "### Explorative Analysis of BERT"
   ],
   "metadata": {
    "collapsed": false
   }
  }
 ],
 "metadata": {
  "kernelspec": {
   "display_name": "Python 3",
   "language": "python",
   "name": "python3"
  },
  "language_info": {
   "codemirror_mode": {
    "name": "ipython",
    "version": 2
   },
   "file_extension": ".py",
   "mimetype": "text/x-python",
   "name": "python",
   "nbconvert_exporter": "python",
   "pygments_lexer": "ipython2",
   "version": "2.7.6"
  }
 },
 "nbformat": 4,
 "nbformat_minor": 0
}
